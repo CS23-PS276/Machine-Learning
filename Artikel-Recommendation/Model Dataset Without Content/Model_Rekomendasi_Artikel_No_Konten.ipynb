{
  "cells": [
    {
      "cell_type": "code",
      "execution_count": 2,
      "metadata": {
        "id": "2x5HvAVOg0d2"
      },
      "outputs": [],
      "source": [
        "import tensorflow as tf\n",
        "import numpy as np\n",
        "from tensorflow.keras.preprocessing.text import Tokenizer\n",
        "from tensorflow.keras.preprocessing.sequence import pad_sequences\n",
        "from sklearn.metrics.pairwise import cosine_similarity\n",
        "import pandas as pd\n",
        "import re\n",
        "from sklearn.feature_extraction.text import TfidfVectorizer\n",
        "from sklearn.metrics.pairwise import cosine_similarity\n",
        "from nltk.corpus import stopwords\n",
        "from nltk.tokenize import word_tokenize"
      ]
    },
    {
      "cell_type": "markdown",
      "metadata": {
        "id": "5O4XBpqkhXVs"
      },
      "source": [
        "# Persiapan Dataset"
      ]
    },
    {
      "cell_type": "code",
      "execution_count": 24,
      "metadata": {
        "id": "U2pUb85mefkJ"
      },
      "outputs": [],
      "source": [
        "# Membaca file CSV\n",
        "df = pd.read_csv('combined_article_dataset.csv')"
      ]
    },
    {
      "cell_type": "code",
      "execution_count": 25,
      "metadata": {
        "colab": {
          "base_uri": "https://localhost:8080/"
        },
        "id": "PPkP4LgDe77k",
        "outputId": "91df4f64-fba6-46b2-b6a2-3f2f46cc971c"
      },
      "outputs": [
        {
          "output_type": "stream",
          "name": "stdout",
          "text": [
            "0    9 Makanan Sehat untuk Lansia, Lebih Bergizi da...\n",
            "1    8 Gerakan Senam Osteoporosis untuk Lansia (Mud...\n",
            "2    7 Camilan Sehat yang Cocok Dikonsumsi oleh Lansia\n",
            "3    Penyebab dan Cara Mengatasi Diare pada Lansia ...\n",
            "4    Mengenal Sindrom Geriatri pada Lansia & Penang...\n",
            "Name: title, dtype: object\n"
          ]
        }
      ],
      "source": [
        "# Lihat 5 Data teratas\n",
        "print(df['title'].head(5))"
      ]
    },
    {
      "cell_type": "markdown",
      "metadata": {
        "id": "oVSUwChZhPtM"
      },
      "source": [
        "# Preprocessing Data"
      ]
    },
    {
      "cell_type": "code",
      "execution_count": 8,
      "metadata": {
        "colab": {
          "base_uri": "https://localhost:8080/"
        },
        "id": "tJBZqZK8hLkg",
        "outputId": "9d1de0da-aed4-4226-f542-e2e126a14f3b"
      },
      "outputs": [
        {
          "output_type": "stream",
          "name": "stdout",
          "text": [
            "Looking in indexes: https://pypi.org/simple, https://us-python.pkg.dev/colab-wheels/public/simple/\n",
            "Requirement already satisfied: nltk in /usr/local/lib/python3.10/dist-packages (3.8.1)\n",
            "Requirement already satisfied: click in /usr/local/lib/python3.10/dist-packages (from nltk) (8.1.3)\n",
            "Requirement already satisfied: joblib in /usr/local/lib/python3.10/dist-packages (from nltk) (1.2.0)\n",
            "Requirement already satisfied: regex>=2021.8.3 in /usr/local/lib/python3.10/dist-packages (from nltk) (2022.10.31)\n",
            "Requirement already satisfied: tqdm in /usr/local/lib/python3.10/dist-packages (from nltk) (4.65.0)\n"
          ]
        }
      ],
      "source": [
        "pip install nltk"
      ]
    },
    {
      "cell_type": "code",
      "execution_count": 9,
      "metadata": {
        "colab": {
          "base_uri": "https://localhost:8080/"
        },
        "id": "mSJlsAzQhx7H",
        "outputId": "bd2a3175-1299-4f68-9f8f-2a8f97c2c1f4"
      },
      "outputs": [
        {
          "output_type": "stream",
          "name": "stdout",
          "text": [
            "Looking in indexes: https://pypi.org/simple, https://us-python.pkg.dev/colab-wheels/public/simple/\n",
            "Collecting Sastrawi\n",
            "  Downloading Sastrawi-1.0.1-py2.py3-none-any.whl (209 kB)\n",
            "\u001b[?25l     \u001b[90m━━━━━━━━━━━━━━━━━━━━━━━━━━━━━━━━━━━━━━━━\u001b[0m \u001b[32m0.0/209.7 kB\u001b[0m \u001b[31m?\u001b[0m eta \u001b[36m-:--:--\u001b[0m\r\u001b[2K     \u001b[90m━━━━━━━━━━━━━━━━━━━━━━━━━━━━━━━━━━━━━━━\u001b[0m \u001b[32m209.7/209.7 kB\u001b[0m \u001b[31m7.9 MB/s\u001b[0m eta \u001b[36m0:00:00\u001b[0m\n",
            "\u001b[?25hInstalling collected packages: Sastrawi\n",
            "Successfully installed Sastrawi-1.0.1\n"
          ]
        }
      ],
      "source": [
        "pip install Sastrawi"
      ]
    },
    {
      "cell_type": "code",
      "execution_count": 10,
      "metadata": {
        "colab": {
          "base_uri": "https://localhost:8080/"
        },
        "id": "07aDGZp7fMV2",
        "outputId": "99b6be6b-c90c-4ccb-e920-026b7779e71f"
      },
      "outputs": [
        {
          "name": "stdout",
          "output_type": "stream",
          "text": [
            "NLTK Downloader\n",
            "---------------------------------------------------------------------------\n",
            "    d) Download   l) List    u) Update   c) Config   h) Help   q) Quit\n",
            "---------------------------------------------------------------------------\n",
            "Downloader> d\n",
            "\n",
            "Download which package (l=list; x=cancel)?\n",
            "  Identifier> l\n",
            "Packages:\n",
            "  [ ] abc................. Australian Broadcasting Commission 2006\n",
            "  [ ] alpino.............. Alpino Dutch Treebank\n",
            "  [ ] averaged_perceptron_tagger Averaged Perceptron Tagger\n",
            "  [ ] averaged_perceptron_tagger_ru Averaged Perceptron Tagger (Russian)\n",
            "  [ ] basque_grammars..... Grammars for Basque\n",
            "  [ ] bcp47............... BCP-47 Language Tags\n",
            "  [ ] biocreative_ppi..... BioCreAtIvE (Critical Assessment of Information\n",
            "                           Extraction Systems in Biology)\n",
            "  [ ] bllip_wsj_no_aux.... BLLIP Parser: WSJ Model\n",
            "  [ ] book_grammars....... Grammars from NLTK Book\n",
            "  [ ] brown............... Brown Corpus\n",
            "  [ ] brown_tei........... Brown Corpus (TEI XML Version)\n",
            "  [ ] cess_cat............ CESS-CAT Treebank\n",
            "  [ ] cess_esp............ CESS-ESP Treebank\n",
            "  [ ] chat80.............. Chat-80 Data Files\n",
            "  [ ] city_database....... City Database\n",
            "  [ ] cmudict............. The Carnegie Mellon Pronouncing Dictionary (0.6)\n",
            "  [ ] comparative_sentences Comparative Sentence Dataset\n",
            "  [ ] comtrans............ ComTrans Corpus Sample\n",
            "  [ ] conll2000........... CONLL 2000 Chunking Corpus\n",
            "Hit Enter to continue: \n",
            "  [ ] conll2002........... CONLL 2002 Named Entity Recognition Corpus\n",
            "  [ ] conll2007........... Dependency Treebanks from CoNLL 2007 (Catalan\n",
            "                           and Basque Subset)\n",
            "  [ ] crubadan............ Crubadan Corpus\n",
            "  [ ] dependency_treebank. Dependency Parsed Treebank\n",
            "  [ ] dolch............... Dolch Word List\n",
            "  [ ] europarl_raw........ Sample European Parliament Proceedings Parallel\n",
            "                           Corpus\n",
            "  [ ] extended_omw........ Extended Open Multilingual WordNet\n",
            "  [ ] floresta............ Portuguese Treebank\n",
            "  [ ] framenet_v15........ FrameNet 1.5\n",
            "  [ ] framenet_v17........ FrameNet 1.7\n",
            "  [ ] gazetteers.......... Gazeteer Lists\n",
            "  [ ] genesis............. Genesis Corpus\n",
            "  [ ] gutenberg........... Project Gutenberg Selections\n",
            "  [ ] ieer................ NIST IE-ER DATA SAMPLE\n",
            "  [ ] inaugural........... C-Span Inaugural Address Corpus\n",
            "  [ ] indian.............. Indian Language POS-Tagged Corpus\n",
            "  [ ] jeita............... JEITA Public Morphologically Tagged Corpus (in\n",
            "                           ChaSen format)\n",
            "  [ ] kimmo............... PC-KIMMO Data Files\n",
            "Hit Enter to continue: \n",
            "  [ ] knbc................ KNB Corpus (Annotated blog corpus)\n",
            "  [ ] large_grammars...... Large context-free and feature-based grammars\n",
            "                           for parser comparison\n",
            "  [ ] lin_thesaurus....... Lin's Dependency Thesaurus\n",
            "  [ ] mac_morpho.......... MAC-MORPHO: Brazilian Portuguese news text with\n",
            "                           part-of-speech tags\n",
            "  [ ] machado............. Machado de Assis -- Obra Completa\n",
            "  [ ] masc_tagged......... MASC Tagged Corpus\n",
            "  [ ] maxent_ne_chunker... ACE Named Entity Chunker (Maximum entropy)\n",
            "  [ ] maxent_treebank_pos_tagger Treebank Part of Speech Tagger (Maximum entropy)\n",
            "  [ ] moses_sample........ Moses Sample Models\n",
            "  [ ] movie_reviews....... Sentiment Polarity Dataset Version 2.0\n",
            "  [ ] mte_teip5........... MULTEXT-East 1984 annotated corpus 4.0\n",
            "  [ ] mwa_ppdb............ The monolingual word aligner (Sultan et al.\n",
            "                           2015) subset of the Paraphrase Database.\n",
            "  [ ] names............... Names Corpus, Version 1.3 (1994-03-29)\n",
            "  [ ] nombank.1.0......... NomBank Corpus 1.0\n",
            "  [ ] nonbreaking_prefixes Non-Breaking Prefixes (Moses Decoder)\n",
            "  [ ] nps_chat............ NPS Chat\n",
            "  [ ] omw-1.4............. Open Multilingual Wordnet\n",
            "  [ ] omw................. Open Multilingual Wordnet\n",
            "Hit Enter to continue: \n",
            "  [ ] opinion_lexicon..... Opinion Lexicon\n",
            "  [ ] panlex_swadesh...... PanLex Swadesh Corpora\n",
            "  [ ] paradigms........... Paradigm Corpus\n",
            "  [ ] pe08................ Cross-Framework and Cross-Domain Parser\n",
            "                           Evaluation Shared Task\n",
            "  [ ] perluniprops........ perluniprops: Index of Unicode Version 7.0.0\n",
            "                           character properties in Perl\n",
            "  [ ] pil................. The Patient Information Leaflet (PIL) Corpus\n",
            "  [ ] pl196x.............. Polish language of the XX century sixties\n",
            "  [ ] porter_test......... Porter Stemmer Test Files\n",
            "  [ ] ppattach............ Prepositional Phrase Attachment Corpus\n",
            "  [ ] problem_reports..... Problem Report Corpus\n",
            "  [ ] product_reviews_1... Product Reviews (5 Products)\n",
            "  [ ] product_reviews_2... Product Reviews (9 Products)\n",
            "  [ ] propbank............ Proposition Bank Corpus 1.0\n",
            "  [ ] pros_cons........... Pros and Cons\n",
            "  [ ] ptb................. Penn Treebank\n",
            "  [ ] punkt............... Punkt Tokenizer Models\n",
            "  [ ] qc.................. Experimental Data for Question Classification\n",
            "  [ ] reuters............. The Reuters-21578 benchmark corpus, ApteMod\n",
            "                           version\n",
            "Hit Enter to continue: \n",
            "  [ ] rslp................ RSLP Stemmer (Removedor de Sufixos da Lingua\n",
            "                           Portuguesa)\n",
            "  [ ] rte................. PASCAL RTE Challenges 1, 2, and 3\n",
            "  [ ] sample_grammars..... Sample Grammars\n",
            "  [ ] semcor.............. SemCor 3.0\n",
            "  [ ] senseval............ SENSEVAL 2 Corpus: Sense Tagged Text\n",
            "  [ ] sentence_polarity... Sentence Polarity Dataset v1.0\n",
            "  [ ] sentiwordnet........ SentiWordNet\n",
            "  [ ] shakespeare......... Shakespeare XML Corpus Sample\n",
            "  [ ] sinica_treebank..... Sinica Treebank Corpus Sample\n",
            "  [ ] smultron............ SMULTRON Corpus Sample\n",
            "  [ ] snowball_data....... Snowball Data\n",
            "  [ ] spanish_grammars.... Grammars for Spanish\n",
            "  [ ] state_union......... C-Span State of the Union Address Corpus\n",
            "  [ ] stopwords........... Stopwords Corpus\n",
            "  [ ] subjectivity........ Subjectivity Dataset v1.0\n",
            "  [ ] swadesh............. Swadesh Wordlists\n",
            "  [ ] switchboard......... Switchboard Corpus Sample\n",
            "  [ ] tagsets............. Help on Tagsets\n",
            "  [ ] timit............... TIMIT Corpus Sample\n",
            "  [ ] toolbox............. Toolbox Sample Files\n",
            "Hit Enter to continue: \n",
            "  [ ] treebank............ Penn Treebank Sample\n",
            "  [ ] twitter_samples..... Twitter Samples\n",
            "  [ ] udhr2............... Universal Declaration of Human Rights Corpus\n",
            "                           (Unicode Version)\n",
            "  [ ] udhr................ Universal Declaration of Human Rights Corpus\n",
            "  [ ] unicode_samples..... Unicode Samples\n",
            "  [ ] universal_tagset.... Mappings to the Universal Part-of-Speech Tagset\n",
            "  [ ] universal_treebanks_v20 Universal Treebanks Version 2.0\n",
            "  [ ] vader_lexicon....... VADER Sentiment Lexicon\n",
            "  [ ] verbnet3............ VerbNet Lexicon, Version 3.3\n",
            "  [ ] verbnet............. VerbNet Lexicon, Version 2.1\n",
            "  [ ] webtext............. Web Text Corpus\n",
            "  [ ] wmt15_eval.......... Evaluation data from WMT15\n",
            "  [ ] word2vec_sample..... Word2Vec Sample\n",
            "  [ ] wordnet2021......... Open English Wordnet 2021\n",
            "  [ ] wordnet2022......... Open English Wordnet 2022\n",
            "  [ ] wordnet31........... Wordnet 3.1\n",
            "  [ ] wordnet............. WordNet\n",
            "  [ ] wordnet_ic.......... WordNet-InfoContent\n",
            "  [ ] words............... Word Lists\n",
            "  [ ] ycoe................ York-Toronto-Helsinki Parsed Corpus of Old\n",
            "                           English Prose\n",
            "Hit Enter to continue: \n",
            "\n",
            "Collections:\n",
            "  [ ] all-corpora......... All the corpora\n",
            "  [ ] all-nltk............ All packages available on nltk_data gh-pages\n",
            "                           branch\n",
            "  [ ] all................. All packages\n",
            "  [ ] book................ Everything used in the NLTK Book\n",
            "  [ ] popular............. Popular packages\n",
            "  [ ] tests............... Packages for running tests\n",
            "  [ ] third-party......... Third-party data packages\n",
            "\n",
            "([*] marks installed packages)\n",
            "\n",
            "Download which package (l=list; x=cancel)?\n",
            "  Identifier> \n",
            "\n",
            "---------------------------------------------------------------------------\n",
            "    d) Download   l) List    u) Update   c) Config   h) Help   q) Quit\n",
            "---------------------------------------------------------------------------\n",
            "Downloader> q\n"
          ]
        },
        {
          "output_type": "execute_result",
          "data": {
            "text/plain": [
              "True"
            ]
          },
          "metadata": {},
          "execution_count": 10
        }
      ],
      "source": [
        "# Preprocessing Data Training\n",
        "import nltk\n",
        "nltk.download()"
      ]
    },
    {
      "cell_type": "code",
      "execution_count": 26,
      "metadata": {
        "colab": {
          "base_uri": "https://localhost:8080/"
        },
        "id": "Sx1lSficnOM8",
        "outputId": "e3acc124-ec1c-43cf-bca6-618bb509c364"
      },
      "outputs": [
        {
          "output_type": "stream",
          "name": "stdout",
          "text": [
            "500\n"
          ]
        }
      ],
      "source": [
        "data_duplikat = df.duplicated().sum()\n",
        "print(data_duplikat)"
      ]
    },
    {
      "cell_type": "code",
      "execution_count": 27,
      "metadata": {
        "colab": {
          "base_uri": "https://localhost:8080/"
        },
        "id": "TH0gDxQynDTS",
        "outputId": "7eae6246-849c-4262-8613-d4989b514ef2"
      },
      "outputs": [
        {
          "output_type": "stream",
          "name": "stdout",
          "text": [
            "0\n"
          ]
        }
      ],
      "source": [
        "# Hapus Data Duplikat\n",
        "df  = df.drop_duplicates()\n",
        "data_duplikat1 = df.duplicated().sum()\n",
        "\n",
        "print(data_duplikat1)"
      ]
    },
    {
      "cell_type": "code",
      "source": [
        "print(df['title'][231])"
      ],
      "metadata": {
        "colab": {
          "base_uri": "https://localhost:8080/"
        },
        "id": "cvbZmf-Lp4JQ",
        "outputId": "b8006d7c-b671-4e1d-f07a-3b53aad5c1f1"
      },
      "execution_count": 89,
      "outputs": [
        {
          "output_type": "stream",
          "name": "stdout",
          "text": [
            "Stroke pada Lansia, Kenali Penyebab serta Gejala Kondisi Medis Darurat Ini\n"
          ]
        }
      ]
    },
    {
      "cell_type": "markdown",
      "metadata": {
        "id": "oq21eXt2jhmV"
      },
      "source": [
        "### Case Folding"
      ]
    },
    {
      "cell_type": "code",
      "execution_count": 28,
      "metadata": {
        "id": "oU5mHMQgkACo"
      },
      "outputs": [],
      "source": [
        "# Ubah ke lowercase\n",
        "df['case_folding'] = df['title'].apply(lambda x: x.lower())"
      ]
    },
    {
      "cell_type": "code",
      "execution_count": 29,
      "metadata": {
        "colab": {
          "base_uri": "https://localhost:8080/"
        },
        "id": "3vRn_yiSkzCB",
        "outputId": "ec146ea9-5641-4609-d186-c5bae7a9a773"
      },
      "outputs": [
        {
          "output_type": "stream",
          "name": "stdout",
          "text": [
            "0    9 makanan sehat untuk lansia, lebih bergizi da...\n",
            "1    8 gerakan senam osteoporosis untuk lansia (mud...\n",
            "2    7 camilan sehat yang cocok dikonsumsi oleh lansia\n",
            "3    penyebab dan cara mengatasi diare pada lansia ...\n",
            "4    mengenal sindrom geriatri pada lansia & penang...\n",
            "Name: case_folding, dtype: object\n"
          ]
        }
      ],
      "source": [
        "print(df['case_folding'].head())"
      ]
    },
    {
      "cell_type": "markdown",
      "metadata": {
        "id": "NeH915d3lEQ2"
      },
      "source": [
        "### Number Removal\n"
      ]
    },
    {
      "cell_type": "code",
      "execution_count": 30,
      "metadata": {
        "id": "xHME6bqXlIox"
      },
      "outputs": [],
      "source": [
        "df['num_remover'] = df['case_folding'].apply(lambda x: re.sub(r'\\d+', '', x))"
      ]
    },
    {
      "cell_type": "code",
      "execution_count": 31,
      "metadata": {
        "colab": {
          "base_uri": "https://localhost:8080/"
        },
        "id": "hPNkjlsTlq64",
        "outputId": "8bc9a540-a359-4876-eea6-f73d243f1234"
      },
      "outputs": [
        {
          "output_type": "stream",
          "name": "stdout",
          "text": [
            "0     makanan sehat untuk lansia, lebih bergizi dan...\n",
            "1     gerakan senam osteoporosis untuk lansia (muda...\n",
            "2      camilan sehat yang cocok dikonsumsi oleh lansia\n",
            "3    penyebab dan cara mengatasi diare pada lansia ...\n",
            "4    mengenal sindrom geriatri pada lansia & penang...\n",
            "Name: num_remover, dtype: object\n"
          ]
        }
      ],
      "source": [
        "print(df['num_remover'].head(5))"
      ]
    },
    {
      "cell_type": "markdown",
      "metadata": {
        "id": "6f7Mt29ylvau"
      },
      "source": [
        "### String Punctuation (Hapus Tanda Baca)"
      ]
    },
    {
      "cell_type": "code",
      "execution_count": 32,
      "metadata": {
        "id": "ZuuZIsL5mKfV"
      },
      "outputs": [],
      "source": [
        "import string\n",
        "df['string_punc'] = df['num_remover'].apply(lambda x: x.translate(str.maketrans(\"\",\"\",string.punctuation)))"
      ]
    },
    {
      "cell_type": "code",
      "execution_count": 33,
      "metadata": {
        "colab": {
          "base_uri": "https://localhost:8080/"
        },
        "id": "HX8NzjVZmqjq",
        "outputId": "7c66b5d0-64e6-4ca2-812b-aa9f875c1c57"
      },
      "outputs": [
        {
          "output_type": "stream",
          "name": "stdout",
          "text": [
            "0     makanan sehat untuk lansia lebih bergizi dan ...\n",
            "1     gerakan senam osteoporosis untuk lansia mudah...\n",
            "2      camilan sehat yang cocok dikonsumsi oleh lansia\n",
            "3    penyebab dan cara mengatasi diare pada lansia ...\n",
            "4    mengenal sindrom geriatri pada lansia  penanga...\n",
            "Name: string_punc, dtype: object\n"
          ]
        }
      ],
      "source": [
        "print(df['string_punc'].head(5))"
      ]
    },
    {
      "cell_type": "markdown",
      "metadata": {
        "id": "SWtR8_J0te1L"
      },
      "source": [
        "### Hilangkan Kata \"lansia\""
      ]
    },
    {
      "cell_type": "code",
      "execution_count": 34,
      "metadata": {
        "id": "TJVK9kgatkFN"
      },
      "outputs": [],
      "source": [
        "df['lansia_removal'] = df['string_punc'].apply(lambda x: x.replace('lansia', ''))"
      ]
    },
    {
      "cell_type": "code",
      "execution_count": 35,
      "metadata": {
        "colab": {
          "base_uri": "https://localhost:8080/"
        },
        "id": "Wbjh3ZHVuJfy",
        "outputId": "52d17a6a-0a82-46c7-f248-5b6e3708dfd0"
      },
      "outputs": [
        {
          "output_type": "stream",
          "name": "stdout",
          "text": [
            "0          makanan sehat untuk  lebih bergizi dan enak\n",
            "1     gerakan senam osteoporosis untuk  mudah dan e...\n",
            "2            camilan sehat yang cocok dikonsumsi oleh \n",
            "3    penyebab dan cara mengatasi diare pada  alami ...\n",
            "4       mengenal sindrom geriatri pada   penanganannya\n",
            "Name: lansia_removal, dtype: object\n"
          ]
        }
      ],
      "source": [
        "print(df['lansia_removal'].head(5))"
      ]
    },
    {
      "cell_type": "markdown",
      "metadata": {
        "id": "LuZ2135LnkXx"
      },
      "source": [
        "### Whitespace Removing"
      ]
    },
    {
      "cell_type": "code",
      "execution_count": 36,
      "metadata": {
        "id": "x4jFVu4QnjkL"
      },
      "outputs": [],
      "source": [
        "df['whitespace_remove'] = df['lansia_removal'].apply(lambda x: x.strip())"
      ]
    },
    {
      "cell_type": "code",
      "execution_count": 37,
      "metadata": {
        "colab": {
          "base_uri": "https://localhost:8080/"
        },
        "id": "R9Q-tgrDnkA0",
        "outputId": "852e3641-b1ef-4592-b508-c8dea7538f0c"
      },
      "outputs": [
        {
          "output_type": "stream",
          "name": "stdout",
          "text": [
            "0          makanan sehat untuk  lebih bergizi dan enak\n",
            "1    gerakan senam osteoporosis untuk  mudah dan ef...\n",
            "2             camilan sehat yang cocok dikonsumsi oleh\n",
            "3    penyebab dan cara mengatasi diare pada  alami ...\n",
            "4       mengenal sindrom geriatri pada   penanganannya\n",
            "Name: whitespace_remove, dtype: object\n"
          ]
        }
      ],
      "source": [
        "print(df['whitespace_remove'].head(5))"
      ]
    },
    {
      "cell_type": "markdown",
      "metadata": {
        "id": "dYJ2WobnvDgj"
      },
      "source": [
        "### Stopword Removal"
      ]
    },
    {
      "cell_type": "code",
      "execution_count": 38,
      "metadata": {
        "id": "nyBfkXZMipHp"
      },
      "outputs": [],
      "source": [
        "from Sastrawi.StopWordRemover.StopWordRemoverFactory import StopWordRemoverFactory\n",
        "factory = StopWordRemoverFactory()\n",
        "stopwords = factory.get_stop_words()\n",
        "stopword_remover = factory.create_stop_word_remover()\n",
        "df['stopword_removal'] = df['whitespace_remove'].apply(lambda x: stopword_remover.remove(x))"
      ]
    },
    {
      "cell_type": "code",
      "execution_count": 39,
      "metadata": {
        "colab": {
          "base_uri": "https://localhost:8080/"
        },
        "id": "_Dj0V3favF1Y",
        "outputId": "458e5521-147a-4a2d-9135-7dc5c8ca7b3a"
      },
      "outputs": [
        {
          "output_type": "stream",
          "name": "stdout",
          "text": [
            "0             makanan sehat  lebih bergizi enak\n",
            "1     gerakan senam osteoporosis  mudah efektif\n",
            "2                camilan sehat cocok dikonsumsi\n",
            "3    penyebab cara mengatasi diare  alami medis\n",
            "4     mengenal sindrom geriatri   penanganannya\n",
            "Name: stopword_removal, dtype: object\n"
          ]
        }
      ],
      "source": [
        "print(df['stopword_removal'].head(5))"
      ]
    },
    {
      "cell_type": "markdown",
      "metadata": {
        "id": "K4zu9HosvdHl"
      },
      "source": [
        "### Stemming"
      ]
    },
    {
      "cell_type": "code",
      "execution_count": 40,
      "metadata": {
        "id": "HKsEBw5LvcRo"
      },
      "outputs": [],
      "source": [
        "# import StemmerFactory class\n",
        "from Sastrawi.Stemmer.StemmerFactory import StemmerFactory\n",
        "# create stemmer\n",
        "factory = StemmerFactory()\n",
        "stemmer = factory.create_stemmer()\n",
        "df['stemming'] = df['stopword_removal'].apply(lambda x: stemmer.stem(x))"
      ]
    },
    {
      "cell_type": "code",
      "execution_count": 41,
      "metadata": {
        "colab": {
          "base_uri": "https://localhost:8080/"
        },
        "id": "-UdQVrY2vxHD",
        "outputId": "72775090-12b2-4f5e-911a-293c518af22d"
      },
      "outputs": [
        {
          "output_type": "stream",
          "name": "stdout",
          "text": [
            "0              makan sehat lebih gizi enak\n",
            "1    gera senam osteoporosis mudah efektif\n",
            "2               camil sehat cocok konsumsi\n",
            "3        sebab cara atas diare alami medis\n",
            "4            kenal sindrom geriatri tangan\n",
            "Name: stemming, dtype: object\n"
          ]
        }
      ],
      "source": [
        "print(df['stemming'].head(5))"
      ]
    },
    {
      "cell_type": "code",
      "execution_count": 42,
      "metadata": {
        "id": "TJHhmOCPwnVj"
      },
      "outputs": [],
      "source": [
        "clean_data = df['stemming']"
      ]
    },
    {
      "cell_type": "code",
      "execution_count": 43,
      "metadata": {
        "id": "C6VzFTt5xmAV"
      },
      "outputs": [],
      "source": [
        "import tensorflow as tf\n",
        "import numpy as np\n",
        "from tensorflow.keras.preprocessing.text import Tokenizer\n",
        "from tensorflow.keras.preprocessing.sequence import pad_sequences\n",
        "from sklearn.metrics.pairwise import cosine_similarity\n",
        "from sklearn.model_selection import train_test_split\n",
        "\n",
        "\n",
        "# Langkah 1: Persiapan Dataset\n",
        "# Mengambil kolom input judul artikel\n",
        "judul_artikel = clean_data.tolist()\n"
      ]
    },
    {
      "cell_type": "code",
      "execution_count": 44,
      "metadata": {
        "id": "MuQNZ-pxyrOp"
      },
      "outputs": [],
      "source": [
        "# Langkah 2: Tokenisasi dan Encoding\n",
        "\n",
        "# Inisialisasi objek Tokenizer\n",
        "tokenizer = Tokenizer()\n",
        "tokenizer.fit_on_texts(judul_artikel)\n",
        "\n",
        "# Ubah judul artikel menjadi urutan angka\n",
        "sequences = tokenizer.texts_to_sequences(judul_artikel)"
      ]
    },
    {
      "cell_type": "code",
      "execution_count": 45,
      "metadata": {
        "colab": {
          "base_uri": "https://localhost:8080/"
        },
        "id": "3jy82JGNytPl",
        "outputId": "1ae77c49-64bd-43ce-a677-d43151c166c0"
      },
      "outputs": [
        {
          "output_type": "stream",
          "name": "stdout",
          "text": [
            "[[70, 19, 59, 360, 646], [361, 249, 327, 250, 182], [898, 19, 647, 251], [8, 7, 13, 899, 60, 278], [11, 252, 253, 141], [900, 110, 509, 901, 902, 362, 250, 328], [183, 184, 648, 363, 57, 426, 48], [65, 649, 329, 75, 19], [903, 12, 142, 254, 16, 427], [11, 16, 650, 904], [183, 123, 58], [428, 6, 8, 55, 49], [8, 7, 13, 364, 651, 70], [652, 6, 8, 55], [11, 905, 16, 429, 143, 653], [101, 47, 85, 153], [16, 76, 154, 430], [17, 12, 654, 279], [37, 365, 77, 49, 185, 510, 7], [906, 164, 255, 21, 102, 155, 78, 256, 19], [61, 70, 79, 251, 15, 102], [51, 251, 366, 655, 184, 907], [80, 19, 165, 50, 15, 102, 78, 16], [219, 908, 58], [186, 656, 257, 59, 166], [909, 910, 7, 220, 49, 256, 258], [58, 280, 367, 657], [7, 186, 511, 75, 19, 911], [912, 101, 367, 86, 368], [658, 659, 660, 17, 111, 21], [913, 656, 112, 367, 19, 221], [101, 369, 129, 19, 330], [37, 1, 7, 49, 156], [55, 16, 661, 278, 48, 60], [662, 663, 37, 144, 222], [65, 145, 914, 915, 76, 81], [81, 2, 664, 426], [58, 916, 512, 183, 370, 59, 166], [665, 917, 12, 142, 187], [101, 7, 86, 49, 431], [8, 7, 13, 652, 113, 371], [85, 918, 919, 920, 921, 922], [17, 281, 8, 87, 165, 666], [17, 67, 130, 923, 432], [433, 146, 88, 513, 363, 57, 331], [372, 94, 667, 52, 167], [924, 153, 514, 70, 259, 70, 19, 221, 668], [669], [85, 65, 101, 515, 69], [332, 11, 85, 47, 101, 373], [65, 925, 123, 21, 130, 103, 85], [16, 76, 154, 12], [47, 2, 131, 282, 38, 223, 23], [11, 926, 124, 328, 283, 434, 284], [202, 11, 6, 167, 278, 373], [130], [219, 146, 927, 285, 7], [58, 154, 146, 928, 65, 49, 59], [670, 52, 187, 929, 164, 55], [516, 671, 930, 672, 7, 435, 260, 431], [65, 673, 52, 130, 931, 932, 22], [281, 88, 166, 51, 101], [132, 51, 168, 933, 75, 69], [132, 934, 261, 167], [153, 514, 257, 19, 517, 286], [169, 255, 143, 89, 655], [935, 936, 57, 12, 252, 674], [7, 937, 436, 518, 157, 21, 25, 13], [29, 6, 252, 253, 282, 7, 141], [938, 113, 141, 90, 437, 21, 129, 7], [287, 85, 519, 675, 939, 940], [38, 2, 664, 94, 288], [8, 147, 258, 333, 49], [7, 649, 203, 334, 941, 21, 289], [287, 374, 7, 13], [520, 364, 437, 21, 82, 130], [188, 259, 70, 219, 70, 282, 676, 942], [85, 19, 164, 255], [147, 677], [943, 6, 678, 7, 373, 13], [944, 945, 679, 946, 114, 6, 48, 167, 373], [27, 184, 680, 86, 19], [333, 681, 186, 19, 947, 665], [7, 49, 90, 948], [85, 949, 249, 950, 69], [521, 951, 360, 70, 183, 75, 19], [85, 366, 952, 19, 143], [11, 259, 55, 144, 647, 368], [8, 282, 65, 13, 90, 290, 123], [287, 17, 953, 954, 955, 7, 373, 224], [281, 101, 49, 157, 60, 130, 510], [522, 37, 335, 523, 956], [8, 334, 682, 957, 7, 13], [683, 684, 685, 256, 677, 91], [524, 8, 686, 154, 104], [7, 13, 958, 60, 278, 40], [51, 52, 130, 289, 21, 164, 184, 143, 331], [67, 130, 77, 51, 29], [959, 76, 169, 21, 25, 13], [47, 16, 77, 51, 29], [51, 129, 203, 334, 433, 7], [85, 523, 960], [188, 8, 219, 70, 133, 189, 12], [85, 361, 249, 222, 286], [332, 103, 153, 69, 101, 961], [153, 375, 962, 69, 289, 21], [287, 963, 257, 687, 19, 368], [8, 369, 688, 524, 16, 369], [11, 252, 689, 16, 336, 964], [81, 525, 184, 690, 19], [52, 170, 34, 691, 60, 692, 134, 13], [51, 125, 693, 965, 171, 130], [259, 47, 70, 438, 19], [332, 225, 153, 69, 376, 55], [526, 253, 32, 12, 134, 13], [219, 70, 103, 7, 220, 13], [11, 337, 253, 40, 966, 141, 256, 19], [65, 101, 694, 125, 21, 291], [511, 91, 967, 695, 134, 7, 186], [8, 147, 146, 282, 7, 13], [696, 75, 19, 286, 171, 21, 289], [125, 439, 172], [169, 527, 75, 204, 69, 59, 697, 528], [968, 698, 523, 969, 330], [970], [16, 971], [365, 77, 17, 124], [11, 59, 205, 292, 293], [154, 972, 371, 699, 21, 291, 65, 527, 147], [155, 221, 21, 529, 7, 186, 973, 60, 511], [700, 429, 19, 21, 291, 226, 974, 975], [90, 290, 330, 7, 182, 49], [7, 49, 976, 701, 59, 260, 21, 102], [153, 105, 288, 183, 360], [977, 280, 530, 702, 103, 65, 75, 703], [153, 44, 438, 70, 105, 978], [331, 531, 979, 40, 282, 7, 224], [88, 50, 183, 980, 331], [16, 440, 154, 12, 7, 13], [227, 251, 164, 981], [287, 8, 369, 688, 7, 13], [188, 6, 16, 94, 29], [15, 704, 130, 142, 16, 982], [29, 6, 327, 103], [114, 8, 427, 7, 13], [441, 114, 55, 519, 55, 427], [114, 8, 440, 705, 7, 13], [11, 6, 187, 7, 205, 37], [85, 164, 255, 32, 12, 983, 70], [114, 8, 532, 16, 113, 104], [984, 985, 129, 533, 257, 52, 289, 21], [61, 65, 515], [6, 254, 187], [986, 987, 255, 534], [70, 82, 228, 13, 535], [26, 258, 520, 988, 6, 254, 147, 258], [27, 184, 680, 81], [188, 65, 129, 19, 75, 286, 21, 291], [47, 101, 69, 517, 19], [8, 338, 536, 37], [7, 27, 2, 1], [133, 535, 32, 442], [6, 252, 689, 18, 377, 19, 528], [11, 6, 113, 338, 87, 104], [537, 252, 253, 16, 154, 104], [11, 188, 47, 187, 91, 104], [8, 378, 989, 7, 13], [6, 443, 990, 49, 32, 125], [991, 992, 444], [88, 706, 707, 228, 294], [11, 187, 993, 87, 104], [11, 994, 995, 186], [65, 259, 708, 285, 280, 7, 69, 376], [81, 125, 530, 129, 19], [85, 47, 249, 330], [29, 6, 327, 32, 445, 143], [169, 996, 75, 19, 286], [154, 60, 11, 7, 13, 686, 143, 103], [8, 250, 997, 146, 709, 57, 51, 295], [51, 164, 184, 366, 143, 262], [8, 90, 290, 675, 7, 49], [65, 75, 19], [538, 16, 113, 49, 32, 125], [253, 998, 999, 40, 19], [692, 691, 8, 6, 7, 13], [91, 60, 8, 252, 1000, 1001], [75, 19, 21, 291, 61, 153, 101], [6, 190, 12, 205, 184, 690], [88, 539, 228, 294, 540], [81, 7, 129, 19, 113], [446, 701, 1002, 18, 447, 48], [55, 532, 112, 37, 229, 113, 705], [65, 693, 123, 69, 694], [8, 1003, 1004, 7, 13], [11, 188, 6, 532, 32, 104], [11, 8, 335, 133, 7, 49], [11, 8, 378, 710], [249, 114, 85, 711, 361], [524, 70, 19, 169, 438], [173, 526, 253, 124, 133], [202, 11, 8, 6, 167], [11, 1005, 124, 328, 290, 283, 284], [8, 378, 710, 173, 147, 1006], [16, 379, 263, 437, 82, 21], [27, 183, 360, 153, 288, 525, 444, 57], [11, 683, 684, 685, 379, 60], [448, 228, 1007, 16, 94, 29], [440, 1008, 8, 7, 13], [1009, 8, 7, 11], [11, 541, 380, 449, 32, 12], [292, 293, 114, 59, 205], [101, 191, 697, 712], [364, 713, 7, 542], [714, 77, 294, 147, 189, 12], [1010, 8, 258, 205, 669], [287, 188, 47, 147, 146, 7, 13], [443, 296, 336, 11, 6, 8], [11, 7, 715, 538, 708, 285, 258], [8, 91, 335, 133, 7, 49], [711, 364, 713, 294, 12], [535, 8, 6, 7, 13], [438, 439, 19, 430, 16, 716], [188, 47, 338, 51, 114], [114, 8, 219, 70, 7, 13], [11, 6, 252, 674, 7, 13], [11, 188, 47, 338, 7, 49], [11, 1011, 1012, 1013, 381, 230, 8, 16, 661], [11, 8, 1014, 7, 55], [255, 76, 1015], [11, 188, 16, 65, 129, 19, 21, 291], [8, 428, 141], [202, 11, 8, 6, 124, 278, 339], [11, 526, 253, 147, 70, 12], [8, 16, 1016, 94, 29], [249, 1017, 101, 435, 1018, 85], [1019, 47, 262, 1020, 1021], [11, 6, 431, 717, 8, 7, 13], [8, 147, 258, 7, 141], [1022, 1023, 296, 718, 6, 7, 13], [16, 716, 297, 16, 432, 262], [11, 382, 8, 7, 13, 48, 37], [11, 7, 49, 156, 719, 35], [521, 85, 516, 672, 19, 330], [720, 134, 6, 7, 13], [1024, 1025, 192, 19], [6, 231, 232, 7, 55], [6, 427, 94, 29], [7, 27, 1026, 158, 38], [51, 251, 184, 114, 1027, 721, 366], [11, 188, 47, 543, 19, 81, 125], [79, 101, 94, 1028, 21, 25, 13], [65, 435, 13, 374, 17], [1029, 59, 250, 60, 374, 103, 58], [8, 374, 154, 544, 17], [362, 722, 450], [6, 202, 451, 21, 430, 426, 48], [79, 19, 94, 125, 21, 25, 182, 49, 16, 133], [79, 101, 723, 69, 21, 25, 13], [6, 338, 51, 29], [11, 8, 6, 202, 33, 21, 15, 48], [172, 10, 63, 2, 3, 14], [7, 27, 3, 14, 47, 174, 2], [23, 3, 14, 18, 193, 87, 71], [62, 2, 1, 3, 14, 158, 233], [47, 3, 14, 451, 3, 194], [7, 190, 724, 1030, 1031, 56], [7, 69, 90, 203, 334, 21, 25, 13], [725, 383, 384, 57, 1032, 95, 172, 1033, 63, 1034, 1035, 1036, 545, 148], [21, 13, 25, 365, 1037, 726, 25, 1038, 134, 546, 452], [53, 385, 206, 453, 547], [527, 57, 517, 19, 687], [7, 49, 147, 258], [65, 190, 146, 533], [9, 24, 229, 1, 175, 89, 386], [88, 166, 727, 101], [328, 1039, 15, 102, 298, 548], [44, 22, 23, 3, 223, 549, 115, 39, 105], [299, 72, 6, 4, 340, 170], [33, 32, 190, 724, 387, 454, 550, 195, 1040], [91, 78, 4, 134, 388, 23, 5], [9, 728, 25, 298, 548, 1041, 1042, 1043, 551], [62, 23, 3, 552], [10, 1044, 1045, 1046, 63, 23, 3, 516, 105], [2, 3, 18, 149, 106, 207], [11, 147, 146, 7, 13], [173, 67, 50, 146, 368], [65, 19, 1047, 1048, 21, 25, 13], [68, 35, 1049, 455, 553, 2, 3, 208, 234, 300, 175], [729, 209, 83, 515, 1050, 23, 1, 26, 107, 1051, 27], [1052, 1053, 730], [1054, 731, 23, 1, 106, 193, 87, 225, 540], [57, 554, 456, 384, 389, 1055, 1056], [555, 38, 7, 27, 23, 21, 25, 13], [729, 209, 279, 135, 1057, 1058, 23, 62, 226, 175], [63, 2, 732, 222, 556, 48, 67, 264], [2, 1, 531, 82, 13, 25], [1059, 23, 363, 57, 66, 158, 27, 457, 390, 733], [555, 38, 190, 2, 1], [68, 35, 734, 301, 148, 192, 2, 136, 557, 182, 205, 6, 48, 56], [17, 38, 32, 190, 2, 1], [302, 1060, 1061, 341, 25, 92, 1, 17, 696], [555, 333, 250, 27, 23, 1], [333, 250, 27, 23, 1], [68, 35, 95, 301, 110, 1062, 23, 342, 260, 343], [558, 540, 27, 23, 1], [23, 1, 446, 18, 57, 103, 735, 210, 48, 1063, 27], [23, 1, 446, 735, 210, 7, 27, 62], [132, 51, 114, 63, 2, 1], [26, 36, 235, 194, 23, 1, 73, 10], [1064, 1065, 1066, 545, 148, 48, 265, 266, 545, 148], [391, 303, 1067, 12, 142, 254, 1, 392], [68, 1, 95, 736, 148, 267, 737, 1068, 2, 1, 393], [2, 96, 79, 205, 182, 1069, 86], [1, 2, 96, 394, 97], [342, 1070, 1071, 1072, 292, 293], [1073, 458, 1074, 1075, 12, 509, 130, 95], [292, 293, 455, 1076, 9, 35, 134, 7, 522], [738, 1077, 103, 27, 738, 304, 739], [559, 92, 35, 700, 236, 59, 89, 15, 102], [302, 1078, 341, 25, 342, 92, 1], [65, 129, 33, 91, 166, 97, 1], [17, 395, 1079, 11, 72, 103], [134, 395, 156, 52, 52], [11, 17, 344, 740, 8, 6, 7, 13], [560, 395, 94, 29, 650, 144], [225, 370, 86, 251, 1080], [11, 17, 382, 741, 6, 8, 7, 13], [560, 329, 94, 29], [8, 561, 59, 742, 7, 13], [150, 743, 744, 94, 29], [17, 229, 745, 50, 561, 459, 157], [72, 382, 1081], [8, 1082, 334, 12, 142, 16, 17], [11, 17, 743, 744, 8, 1083], [79, 1084, 8, 16, 77, 21, 102], [8, 561, 59, 746, 141, 7, 13], [1085, 259, 706, 707, 60, 89], [79, 26, 562, 12, 8, 382], [11, 1086, 1087, 1088, 8, 6, 141], [68, 1, 5, 456, 82, 9, 22, 9, 204], [305, 339, 126, 41, 10, 75, 1089, 3, 14, 1], [68, 1, 5, 456, 82, 9, 22, 9, 204], [8, 16, 378, 1090, 1091, 7, 13], [237, 10, 30, 305, 339, 1, 5, 563, 126], [8, 231, 232, 7, 90], [1092, 238, 31, 116, 306, 233, 59, 1093], [305, 339, 1, 126, 41, 5, 268, 269, 73, 42], [9, 1, 396, 98, 176, 99, 24, 50, 33], [747, 10, 30, 28, 1, 564, 127, 137, 48, 56], [9, 1, 5, 89, 185, 115, 117, 33, 76, 37], [6, 144, 565, 211, 1094, 1095, 1096, 1097, 43], [110, 566, 1, 239, 748, 96, 79, 61, 397, 295], [1098, 110, 90, 118, 1, 12, 748, 96, 79, 18, 456], [80, 240, 30, 37, 1099, 567, 234, 1100, 241, 1101, 1102], [1103, 1104, 16, 365, 77, 43, 95, 45, 6], [1, 5, 83, 108, 138, 20, 26, 460, 568, 69], [569, 279, 25, 12, 52, 206, 95, 92, 395], [9, 1, 137, 56, 398, 138, 20, 34, 53], [570, 110, 239, 307, 345, 1105, 346, 159, 20, 571, 749], [447, 255, 1106, 1107, 519, 19, 60], [58, 196, 224, 234, 1, 159, 46, 396], [461, 462, 1108, 1109, 1110, 280, 167, 289, 347], [42, 572, 463, 55, 22, 1, 1111, 182, 55, 28], [109, 270, 271, 90, 238, 110, 226, 464, 348, 750], [238, 110, 346, 25, 1112, 465, 295], [5, 29, 9, 1, 196, 83, 241, 4, 212], [466, 221, 31, 63, 541, 238, 751, 399, 15, 1113], [46, 396, 165, 752, 1114, 308, 306, 119, 53], [1115, 1116, 1117, 1118, 296, 336, 7, 49], [97, 1, 1119, 41, 753, 573, 46, 396], [41, 139, 46, 396, 299, 197, 33, 76, 37], [41, 574, 169, 2, 3, 1, 33], [71, 426, 115, 13, 2, 1, 42, 5, 172, 349], [1120, 116, 1121, 195, 59, 1122, 509, 400, 467], [575, 22, 97, 1, 10, 272, 189, 574, 169, 2], [401, 398, 298, 70, 754, 1123, 1124, 755], [97, 1, 36, 575, 22, 41, 574, 169, 2], [209, 756, 757, 1125, 15, 16, 1126, 58, 100, 576], [227, 385, 53, 758, 87, 1127, 10, 5], [26, 327, 32, 211, 15, 102, 29, 6], [31, 213, 123, 1128, 1129, 1130, 1131, 468, 20, 350, 107, 15], [63, 21, 130, 469, 1132, 1133, 110, 1134, 1135], [133, 1136, 1137, 1138, 100, 1139, 298], [72, 520, 240, 116, 10, 63, 273, 53, 1140, 87], [68, 1, 5, 577, 9, 22, 9, 204, 12], [1141, 1142, 1143, 1144, 1145, 1146, 759, 760, 25], [160, 240, 63, 44, 53, 26, 34, 1147, 87], [68, 1, 5, 577, 9, 22, 82, 43, 52], [1148, 1149, 761, 1150, 15, 762, 763, 16, 17], [211, 15, 762, 763, 8, 1151, 679, 15], [32, 2, 3, 14, 34, 309, 54, 38], [99, 20, 5, 60, 764, 765, 76, 50, 33], [1152, 391, 390, 161, 646, 155, 211, 766, 1], [333, 110, 13, 307, 345, 346, 381, 230, 100, 1153, 1154], [110, 578, 307, 345, 346, 564, 238, 165, 50], [197, 307, 345, 346, 175], [8, 205, 1155, 70, 94, 251], [66, 54, 9, 1, 46, 470, 230, 28, 767], [56, 9, 1, 46, 470, 66, 3, 194, 6], [46, 470, 137, 66, 42, 1156, 745, 402], [82, 9, 1, 46, 470, 66, 12, 9], [142, 471, 89, 113, 29, 263, 242, 61], [1157, 1158, 43, 95, 768, 1159, 133, 1160], [15, 102, 37, 78, 104, 77, 40, 30, 8], [108, 769, 34, 53, 566, 16, 80, 1161, 579], [31, 472, 84, 224, 580, 238, 148], [5, 54, 9, 1, 46, 581, 45, 6, 128, 3], [55, 445, 582, 45, 7, 468, 92, 1162], [583, 702, 31, 1163, 1164, 1165, 19, 1166], [1167, 1168, 392, 1169, 1170], [31, 1171, 1172, 403, 351, 1], [465, 1173, 770, 19, 16, 1174], [297, 231, 232, 746, 369, 29, 242, 6], [88, 403, 465, 1175, 1176, 193, 734], [361, 249, 75, 286, 21, 291], [45, 124, 110, 771, 1177, 352, 1], [352, 1, 239, 1178, 110, 307, 24, 83, 140, 177, 553], [142, 471, 89, 113, 94, 29], [57, 144, 15, 95, 11, 109, 389, 25], [80, 30, 165, 50, 221, 529, 78, 144, 1179, 162], [1180, 370, 2, 3, 194, 14, 88, 166, 64, 111, 473], [1181, 1182, 26, 434, 12, 8], [270, 271, 772, 404, 110, 773, 213, 123], [405, 584, 306, 2, 1, 774, 1183, 190, 178], [124, 1, 31, 775, 24, 1184, 1185, 1186, 1187], [100, 110, 578, 17, 64, 67, 197, 60, 213, 123], [36, 5, 80, 30, 33, 37, 78, 1, 46, 581], [68, 1, 5, 149, 82, 9, 22, 9, 204], [36, 5, 173, 33, 76, 91, 104, 46, 581], [57, 360, 554, 525, 444, 119, 288, 157], [1188, 578, 141, 238, 1189, 5, 243, 213, 123], [7, 190, 2, 106, 3, 14, 119, 114, 135], [112, 270, 271, 110, 60, 213, 123, 564, 238, 406, 1190], [18, 244, 179, 109, 2, 3, 14, 51, 585, 114], [392, 54, 38, 47, 2, 1, 3, 14], [237, 3, 14, 2, 1, 586, 18, 149], [1191, 1192, 49, 33, 91, 1, 17], [714, 77, 294, 170, 340, 451, 21], [1193, 20, 31, 1194, 587, 1195, 229, 156, 1], [11, 37, 1, 1196, 1197], [295, 776, 777, 63, 1, 31, 778, 1198], [779, 66, 151, 44, 53, 771, 120, 126], [391, 407, 148, 20, 31, 78, 1], [65, 259, 184, 648, 69, 1199], [198, 241, 1200, 1201, 43, 17, 8, 104, 77], [209, 383, 588, 1202, 1203, 40, 440, 74, 67, 45], [73, 10, 63, 583, 15, 589, 211, 1204, 198, 1205], [11, 249, 47, 1206, 361], [780, 1207, 1208, 723, 127, 229, 1209], [290, 143, 13, 147, 154, 12], [70, 1210, 362, 586, 16, 77], [262, 143, 781, 6, 8, 670], [433, 663, 19, 88, 274, 1211, 64], [143, 1212, 290, 781, 256], [35, 121, 100, 50, 197, 310, 210, 1213, 31], [590, 302, 1214, 1215, 1216, 74, 1217, 262, 123], [1218, 1219, 135, 1220, 115, 16, 17], [21, 25, 382, 134, 141, 474], [747, 329, 1221, 15, 102, 98, 222], [671, 8, 1222, 1223, 1224, 1225, 43, 475, 16], [120, 126, 45, 44, 782, 22, 1226], [350, 587, 1, 26, 591, 64, 61, 139, 80], [1227, 2, 1, 207, 15], [27, 782, 22, 140, 120, 592, 126, 53, 48, 311], [109, 120, 126, 44, 34, 53, 48, 476, 2, 3], [476, 3, 367, 408, 80, 208, 37, 120, 126], [10, 30, 6, 305, 23, 28, 4, 783, 175], [353, 3, 1228, 42, 784, 5, 245, 3], [124, 239, 9, 1, 312, 4, 783, 66], [71, 15, 115, 13, 2, 1, 73, 10], [52, 1229, 60, 428, 749, 474], [99, 279, 380, 449, 477, 24, 785, 67, 213, 123], [772, 35, 31, 98, 148, 20, 78, 1, 1230, 57], [541, 22, 477, 213, 123, 99, 380, 449, 43, 785], [9, 1, 31, 98, 84, 580, 409, 17], [124, 31, 575, 1231, 593, 1, 55, 448, 1232, 288], [401, 1233, 36, 1234, 1235, 95, 1236, 1237, 1238, 123], [261, 435, 32, 285, 202], [328, 283, 284, 100, 1239, 1240, 478], [297, 16, 77, 128, 409, 313, 26, 141], [352, 1, 100, 24, 31, 176, 148, 270, 271], [1, 31, 786, 24, 74, 83, 479, 148], [9, 1, 31, 580, 20, 354, 348, 2], [56, 24, 1, 206, 33, 66, 303, 9, 1241], [31, 480, 234, 1, 1242, 787, 1243, 594], [9, 24, 1, 66, 83, 74, 159, 50, 28, 481, 410], [24, 1, 31, 98, 388, 148, 1244, 17, 124], [6, 254, 1, 46, 22, 566, 544, 448, 26, 36], [44, 177, 50, 314, 31, 354, 192, 1], [401, 1, 121, 31, 788, 1245, 2, 155], [109, 296, 352, 1, 31, 28, 127, 1246], [44, 177, 50, 314, 31, 12, 192, 1], [127, 31, 472, 352, 1, 140, 789, 595, 126], [5, 107, 2, 1, 1247, 71, 155, 15], [9, 24, 1, 66, 222, 159, 28, 481, 214, 410], [150, 445, 582, 279, 51, 29], [68, 1, 5, 411, 9, 22, 9, 204], [1248, 790, 1249, 750, 1250, 100, 1251, 61, 290], [139, 779, 66, 50, 28, 1, 43, 481, 410], [366, 1252, 1253, 1254, 534, 13, 596, 265, 266], [791, 792, 28, 1, 66, 43, 159, 481, 410], [150, 471, 89, 21, 102, 1255, 29], [466, 20, 31, 140, 595, 126, 354, 219, 55], [142, 471, 89, 113, 29, 299, 242], [44, 1, 177, 20, 31, 354, 348, 459, 347], [1256, 184, 113, 86, 256, 482], [1257, 793, 1258, 1259, 13, 256, 597], [793, 1260, 82, 651, 70, 15, 52, 170], [466, 794, 20, 31, 140, 789, 1, 177, 117, 257, 294], [20, 31, 1261, 1262, 1263, 1264, 1265, 17, 246], [261, 46, 212, 386, 412, 56, 9, 1, 5], [107, 447, 795, 1266, 1267, 285, 129, 19, 283, 284], [164, 220, 90, 231, 232, 164, 1268, 12, 381, 230], [10, 30, 5, 118, 796, 598, 1], [107, 157, 286, 162, 599, 78, 16, 77, 73, 40], [1, 1269, 482, 280, 303, 9, 194], [662, 562, 79, 8, 436, 518, 157, 90], [600, 543, 797, 88, 133, 64, 1, 46, 212], [57, 1, 98, 121, 13, 99, 44, 601, 573], [483, 1270, 21, 102, 287, 8, 7, 55], [68, 1, 5, 602, 82, 9, 22, 24, 336], [24, 1, 5, 89, 185, 603, 50, 1271, 95], [1272, 1273, 19, 539, 307, 24], [111, 27, 174, 2, 1, 3, 14, 32, 162], [281, 512, 329, 26, 92, 45, 73, 40], [45, 297, 512, 329, 7, 186], [112, 8, 231, 232, 89, 21, 102], [32, 2, 1, 3, 14, 27, 174], [27, 105, 308, 484, 2, 309, 66, 26, 36], [108, 3, 1, 14, 34, 2, 309, 579, 798], [68, 1, 5, 602, 9, 22, 24, 336], [20, 138, 34, 2, 1, 309, 3, 220, 17, 64], [108, 135, 2, 3, 14, 34, 309, 579, 798], [54, 44, 2, 3, 14, 155, 140, 78, 1], [162, 190, 799, 3, 14, 1274, 45, 399], [193, 1275, 800, 1276, 23, 3, 14], [62, 2, 3, 14, 801, 485, 38, 247, 47, 2], [62, 2, 3, 14, 1277, 38, 247, 47, 2], [109, 2, 309, 34, 108, 155, 3, 14, 802, 1278], [42, 138, 1279, 3, 34, 2, 309, 58], [62, 2, 3, 14, 158, 38, 247, 47, 2], [32, 3, 14, 47, 2, 1, 34, 66], [22, 92, 1, 71, 3, 14, 131, 10], [51, 114, 63, 3, 14, 2, 1], [10, 178, 2, 1, 3, 14, 193, 87, 71], [227, 135, 246, 47, 2, 3, 14, 32, 34], [315, 178, 2, 1, 3, 14], [10, 178, 2, 1, 3, 14, 29, 275, 1280], [58, 10, 26, 103, 235, 193, 87, 2, 3, 14], [3, 14, 1281, 134, 193, 87], [109, 722, 24, 316, 401, 604, 298, 1282], [27, 174, 2, 1, 3, 14], [84, 605, 14, 1283, 80, 63, 404, 1, 5, 239], [174, 2, 1, 3, 14], [10, 272, 189, 2, 1, 3, 14, 193, 87], [3, 14, 1, 32, 54, 803, 370, 549], [32, 3, 14, 2, 1, 27, 174, 731], [486, 10, 178, 2, 1, 3, 14, 317, 314], [240, 1284, 40, 141, 804, 1285, 1286, 127, 339, 774], [80, 240, 208, 63, 137, 1, 1287, 168], [80, 240, 138, 5, 173, 9, 1288, 121, 784, 573, 44], [209, 487, 805, 341, 1289, 806, 125, 73, 1290], [316, 1291, 1292, 189, 25, 428, 159, 1293], [209, 487, 1294, 1295, 805, 341, 162, 806, 189, 241], [383, 1296, 755, 100, 9, 1297, 807, 342], [11, 150, 113, 1298, 52, 170, 15], [413, 261, 276, 5, 36, 1, 46, 212], [191, 808, 1299, 7, 196, 224, 133, 1, 46, 212], [49, 327, 11, 1300, 129, 19, 143], [9, 1, 186, 809, 176, 99, 412, 380, 6, 1301], [10, 5, 223, 810, 2, 1, 3, 14, 317, 314], [70, 414, 811, 228, 285, 90, 37, 16, 77], [198, 80, 63, 270, 271, 24, 1, 5, 83, 567, 4, 212], [24, 1, 5, 812, 160, 240, 30, 270, 271], [461, 1302, 1303, 1304, 1305, 673, 20, 813, 1306, 257, 19], [40, 432, 151, 241, 202, 21, 102, 18, 104, 21, 703], [70, 414, 77, 355, 37, 24, 510], [40, 432, 30, 202, 18, 104, 21, 102, 241], [318, 202, 12, 8, 24], [164, 414, 330, 1307, 49, 187, 48, 202], [29, 1, 212, 312, 4, 128, 36, 5], [109, 312, 4, 212, 128, 36, 5], [312, 4, 212, 36, 5, 29, 521, 6], [150, 814, 267, 1308, 597, 815, 180, 96], [57, 327, 95, 389, 384, 1309], [150, 144, 811, 228, 36, 334, 250, 1310], [1, 196, 176, 99, 159, 4, 212, 53, 119], [150, 144, 764, 379, 26, 562, 816, 228], [57, 817, 429, 95, 384, 48, 389, 208], [221, 25, 107, 742, 1311, 180, 1312, 112, 16], [150, 144, 654, 379, 377, 730, 1313, 111, 606], [150, 144, 1314, 1315, 1316, 381, 230], [150, 144, 1317, 1318, 36, 364, 1319, 255], [780, 341, 198, 78, 104, 77, 607, 608, 609], [341, 292, 293, 198, 78, 104, 77, 140, 607, 608, 609], [756, 114, 58, 15, 245, 2, 1, 14], [10, 30, 58, 175, 610, 117, 97, 1], [590, 97, 1, 1320, 563, 80, 310, 16, 570], [150, 144, 1321, 818, 1322, 48, 228], [164, 414, 565, 199, 819, 100, 1323, 820, 1324, 596], [1325, 1326, 12, 1327, 668], [65, 129, 19, 604, 381, 230, 681, 658, 659, 660], [8, 821, 822, 823, 43, 21, 130, 611, 17], [150, 144, 1328, 154, 377, 111, 606], [356, 136, 78, 1, 1329, 2, 274, 45, 124], [676, 129, 436, 518, 157, 1330, 1331, 572], [231, 232, 6, 8, 55], [17, 1332, 60, 761, 1333, 94, 1334], [40, 30, 58, 20, 348, 3, 1, 171, 12, 38, 587], [436, 208, 90, 778, 21, 612, 7, 468, 26, 1335, 474], [405, 584, 305, 97, 1, 98, 126, 117, 25], [154, 146, 824, 12, 142, 488, 357, 172], [41, 74, 117, 97, 1, 179, 113, 611, 5, 69], [401, 292, 293, 1336, 608, 609, 607, 45, 558], [41, 310, 171, 117, 97, 179, 113, 17, 246], [42, 74, 1, 5, 613, 1337, 117, 97, 206, 179, 113], [1338, 1339, 1340, 1341, 1342, 825, 85, 19], [240, 131, 3, 14, 1, 18, 826, 289, 246], [146, 1343, 824, 12, 142, 488, 357, 172], [1344, 189, 141, 821, 822, 823, 704, 825, 43], [1345, 16, 469, 443, 489, 9, 24, 12, 52], [1346, 1347, 569, 165, 250, 1348, 787, 19], [1349, 1350, 1351, 682, 483, 29, 1352, 1353], [1354, 1355, 79, 1356, 113, 112, 133, 139, 40], [109, 2, 1, 304, 25, 98, 614, 117], [11, 1357, 1358, 22, 55, 483, 143, 827], [237, 739, 315, 42, 1359, 2, 35, 15], [590, 31, 1360, 213, 123, 17, 64, 100, 20, 348, 107, 15], [337, 278, 30, 142, 488, 357, 12, 50, 146, 36], [109, 41, 75, 305, 1, 66, 36, 118], [66, 118, 796, 598, 28, 1, 186, 809, 127, 828, 83], [107, 475, 16, 77, 279, 1361, 43, 140, 1362, 1363, 5], [1364, 1365, 1366, 543, 74, 107, 256, 77, 815], [109, 213, 123, 829, 31, 48, 110], [213, 123, 31, 112, 84, 61, 67], [356, 136, 1367, 1368, 192, 1, 274, 3, 45, 6], [56, 20, 5, 107, 236, 1, 160, 30, 71, 273, 53], [68, 490, 9, 415, 215, 216, 5, 400], [109, 415, 215, 216, 491, 128, 243, 615], [69, 221, 415, 215, 216, 491, 243, 615], [221, 491, 12, 415, 215, 216, 6, 242], [10, 28, 415, 215, 216, 491, 26, 475, 1369], [68, 35, 5, 492, 9, 22, 9, 204, 176, 99], [15, 304, 25, 2, 1, 42, 151, 58], [80, 139, 200, 163, 616, 1, 5, 617, 121], [1, 5, 121, 200, 4, 163, 617, 616], [5, 54, 9, 22, 1, 492, 490, 9, 204, 12], [200, 163, 98, 616, 117, 492, 5, 653, 736], [73, 10, 63, 2, 3, 14, 87, 71, 18, 246], [81, 795, 285, 283, 284, 75, 434], [10, 5, 272, 2, 1, 3, 14, 193, 87], [68, 1, 5, 492, 82, 9, 22, 24, 336], [191, 442, 142, 585, 192, 1, 4, 312, 22], [33, 340, 618, 1370, 135, 3, 1, 195], [15, 25, 32, 3, 1, 84, 12, 38, 830], [160, 1, 272, 63, 2, 3, 14, 87, 71, 246], [109, 40, 319, 28, 215, 216, 831, 1371, 550], [28, 215, 216, 1372, 550, 348, 832, 568, 226, 1373], [314, 33, 235, 210, 2, 1, 39, 93], [71, 2, 1, 3, 14, 193, 87, 73, 10, 5], [2, 39, 93, 393, 56, 182, 355, 1, 4], [248, 320, 41, 131, 33, 12, 235, 3, 14, 140, 314], [80, 199, 4, 163, 59, 156, 1374], [2, 1, 3, 14, 18, 321, 88, 81, 314], [2, 1, 3, 14, 18, 244, 195, 132, 103], [28, 93, 95, 25, 92, 395], [29, 215, 216, 1375, 1376, 619, 37, 265, 266], [165, 121, 35, 5, 82, 9, 493, 475, 277, 620], [121, 9, 68, 35, 5, 493], [42, 30, 71, 2, 1, 3, 14, 223], [10, 5, 349, 3, 1, 14, 195, 84, 12, 235], [29, 1377, 50, 104, 322, 61, 1378], [248, 320, 41, 131, 5, 18, 3, 14, 235, 33], [621, 169, 2, 39, 93, 61, 8], [10, 5, 30, 349, 71, 2, 3, 14, 235, 155, 195], [833, 2, 1, 834, 304, 25, 10, 835, 621], [10, 349, 2, 1, 39, 93, 33, 12, 235], [90, 1379, 1, 5, 493, 82, 9], [5, 54, 9, 22, 1, 493, 490, 9, 204, 12], [257, 1, 398, 18, 23, 3, 1, 14], [226, 99, 1, 57, 5, 199, 1380, 99, 9], [55, 1, 463, 268, 217, 220, 17, 64], [217, 268, 463, 55, 1, 22, 556, 56], [1, 5, 121, 83, 274, 836, 6, 35, 128, 2], [139, 160, 9, 57, 1, 357, 99, 318, 1381], [1382, 169, 3, 14, 33, 91], [66, 563, 36, 200, 4, 22, 277, 9, 620, 117], [9, 1383, 1384, 1385, 728, 32, 1386, 112, 8], [279, 102, 837, 838, 1387, 34, 1388, 159, 445, 582], [839, 1389, 198, 1390, 1391, 1, 178, 604], [622, 452, 726, 10, 1392, 261, 1393, 816, 29, 1394], [10, 138, 127, 29, 6, 1395, 4, 840, 457, 89], [129, 283, 284, 1396, 444, 57, 94, 288], [68, 35, 5, 1397, 176, 99, 9, 22], [6, 4, 840, 52, 170, 7, 13], [391, 303, 26, 125, 32, 12, 142, 488, 357], [9, 1, 5, 412, 248, 320, 41, 30, 270, 271], [413, 261, 1, 5, 98, 121, 48, 115], [81, 323, 50, 28, 4, 163, 163, 5], [620, 1, 57, 13, 99, 54, 324, 160], [439, 371, 623, 199, 100, 260, 666, 45, 44], [1, 5, 121, 10, 1398, 44, 494, 53, 453, 547], [325, 39, 2, 1, 263, 73, 160], [297, 4, 163, 163, 52, 170, 181, 48, 416], [5, 624, 1, 248, 356, 41, 131, 3, 14], [10, 5, 223, 810, 2, 39, 3, 155, 15, 612], [109, 312, 4, 163, 163, 462, 1399, 48, 6], [173, 1400, 1, 1401, 91, 78], [65, 168, 462, 130, 533, 18, 606], [4, 163, 163, 36, 5, 199, 22, 9], [109, 35, 5, 121, 84, 196], [337, 30, 8, 9, 1, 5, 812, 206, 276], [35, 5, 83, 299, 37, 234, 4, 22, 196], [47, 16, 759, 94, 29, 720, 48, 1402], [625, 104, 429, 72, 231, 232, 678], [417, 308, 841, 36, 120, 118, 1403, 94, 34, 53], [55, 146, 1404, 1405, 376, 39, 67, 264], [20, 39, 2, 122, 626, 434, 17], [55, 1406, 1407, 39, 67, 264, 44, 34], [231, 232, 89, 6, 17, 64, 318, 191, 377], [1408, 30, 16, 91, 104], [231, 232, 8, 6, 55], [338, 8, 47, 7, 49], [1409, 55, 17, 64, 111, 39, 67, 264, 44, 34], [1410, 10, 5, 63, 215, 216, 6, 37, 156, 461, 1411], [191, 402, 28, 215, 216, 92, 551, 11, 446, 6], [698, 439, 371, 623, 103, 65, 125, 69], [814, 8, 6, 7, 49], [596, 8, 6, 560], [20, 627, 177, 273, 53, 54, 450], [108, 177, 44, 34, 53, 1412, 66, 131, 75, 1413], [11, 344, 842, 6, 416, 8], [44, 53, 177, 1, 5, 36, 628, 268, 269], [344, 740, 156, 629, 17, 64, 11, 7, 37], [5, 385, 53, 1414, 206, 404, 75, 34], [108, 178, 385, 53, 40, 218, 131, 549, 230, 1415], [42, 172, 58, 315, 177, 44, 34, 53], [1416, 53, 108, 177, 44, 80, 495, 272], [112, 105, 108, 63, 273, 1417, 214, 1, 126], [119, 34, 53, 758, 87, 227, 273, 1418], [42, 243, 5, 36, 843, 628, 269, 1, 833], [177, 44, 1, 108, 75, 119, 33, 34, 53], [108, 26, 119, 53, 453, 547, 40, 218, 495, 272], [198, 344, 489, 156, 461, 770, 199, 273, 53], [108, 177, 44, 119, 53, 344, 489, 134], [1419, 2, 105, 26, 51, 214, 1, 38, 280], [329, 1420, 6, 7, 49], [11, 817, 844, 8, 6, 48, 55, 347], [41, 185, 1421, 845, 52, 298, 1422, 229, 16, 765], [17, 64, 344, 842, 111, 6, 8, 55], [157, 846, 496, 45, 65, 40, 1423, 1424, 157], [559, 303, 727, 146, 433, 380, 449], [54, 20, 1425, 1426, 1427, 168, 1428, 97, 1], [68, 35, 5, 603, 82, 9, 22, 490, 9, 204], [10, 227, 122, 12, 3, 1429, 1430, 1431, 178, 217], [262, 90, 4, 31, 162, 121, 80, 74, 26, 1432, 1433], [1, 31, 165, 1434, 630, 54, 497, 24, 35], [1, 121, 31, 9, 417, 95, 18, 90], [1, 417, 95, 90, 162, 31, 354, 165, 121], [1, 5, 199, 26, 84, 9, 171, 236, 498, 56], [498, 56, 20, 5, 107, 236, 617, 32, 385, 53], [41, 169, 55, 463, 136, 182, 49, 409, 35], [50, 20, 5, 107, 236, 1, 80, 226, 611, 117, 97], [191, 1435, 273, 53, 171, 5, 56, 499, 1, 37], [56, 20, 5, 107, 236, 35, 117, 97, 179, 113], [412, 56, 20, 5, 499, 1, 227, 273, 53], [209, 630, 847, 500, 1, 20, 31, 848], [112, 33, 21, 47, 1436, 20, 5, 76, 499, 1], [412, 56, 20, 841, 107, 236, 1, 721, 233], [1437, 1438, 194, 24, 1439, 33, 76, 91], [480, 4, 630, 1440, 31, 1441, 595], [171, 3, 15, 25, 304, 494, 214, 1, 145], [1442, 484, 65, 69, 145, 15, 304, 25, 171, 2, 1], [538, 147, 447, 1443, 60, 1444, 1445, 140, 548], [270, 271, 31, 224, 137, 9, 50, 197, 18, 631, 1], [30, 391, 95, 112, 2, 1, 93, 116, 4, 1446], [160, 131, 33, 26, 103, 501, 452, 1447], [217, 849, 850, 851, 45, 6, 78, 852, 133], [2, 136, 67, 264, 17, 64, 111, 853, 135], [139, 217, 5, 140, 849, 850, 851, 159, 310, 852], [71, 2, 1, 15, 304, 25, 73, 10], [10, 5, 138, 29, 46, 418, 17], [2, 3, 39, 93, 502, 222, 236, 1448, 836], [837, 838, 419, 1449, 148, 452, 178, 1450], [238, 87, 74, 26, 51, 2, 1, 39, 93, 61, 8], [306, 319, 46, 418, 41, 98, 404, 84, 61], [324, 41, 224, 4, 312, 418, 23, 23, 23], [570, 262, 196, 135, 2, 1, 39, 93, 18, 321], [503, 98, 546, 35, 5, 36, 46, 418], [161, 86, 376, 122, 45, 626, 351, 35], [622, 20, 41, 138, 376, 2, 122, 245, 3], [274, 46, 418, 342, 154, 303, 46, 22, 35], [265, 266, 2, 3, 45, 44, 5], [1451, 1452, 85, 854, 501, 19], [791, 2, 35, 274, 45, 569], [20, 326, 45, 44, 501, 120, 118], [161, 86, 41, 74, 409, 1, 189, 205, 437, 370], [18, 1453, 50, 197, 45, 67, 2, 1, 39, 93], [1454, 455, 18, 131, 2, 1455, 39, 93], [24, 1, 222, 420, 421, 775, 24, 1456, 12, 534], [263, 325, 2, 1, 3, 93, 88, 220, 64], [398, 119, 20, 2, 122, 245, 3, 17], [3, 12, 38, 145, 162, 632, 633, 634, 61, 73, 10], [725, 145, 119, 3, 632, 633, 634, 162], [635, 559, 58, 6, 1, 15, 59, 1457, 636, 52, 170], [173, 56, 28, 766, 1, 60, 6], [20, 128, 3, 145, 134, 546, 610], [16, 77, 1458, 597, 241, 24, 50, 5], [4, 386, 855, 18, 223, 2, 3, 39, 93], [209, 3, 856, 857, 106, 206, 233, 1459, 1460], [131, 337, 1461, 145, 496], [38, 145, 119, 3, 632, 633, 634, 162], [3, 2, 136, 145, 17, 38, 134, 7, 27], [145, 610, 3, 75, 637, 54, 38], [42, 172, 1462, 128, 3, 145, 496], [42, 20, 145, 858, 2, 3, 797], [337, 422, 1463, 854, 1464, 69, 126, 501, 131, 3], [1465, 22, 126, 44, 119, 2, 1, 1466, 1467], [308, 5, 54, 1468, 371, 164, 1469, 1470, 89, 67, 157], [27, 22, 120, 423, 358, 859, 36, 118, 66, 118], [503, 139, 1, 5, 83, 159, 4, 860], [35, 83, 342, 84, 135, 2, 244, 179], [503, 1471, 5, 32, 494, 500, 126, 1472, 1473], [136, 757, 178, 2, 1, 3, 14], [20, 237, 5, 98, 36, 269, 1, 115], [199, 4, 1474, 861, 110, 237, 126, 553], [11, 1475, 565, 211, 1476, 43, 399, 1477], [217, 1478, 1479, 1, 136, 71, 34, 5], [383, 24, 1, 5, 89, 1480, 862, 30, 8], [18, 863, 1481, 1482, 4, 12, 296, 404, 5, 180, 420, 421], [20, 237, 405, 584, 63, 145, 496, 25], [4, 860, 163, 863, 5, 237, 137, 9, 469], [398, 71, 5, 36, 628, 269, 1, 73, 424, 152], [487, 420, 421, 42, 30, 81, 23], [42, 390, 161, 86, 502, 22, 4, 59, 181, 201], [635, 42, 151, 58, 4, 420, 421, 24], [68, 35, 5, 577, 82, 9, 22, 43], [4, 24, 33, 37, 89], [413, 261, 10, 74, 1, 83, 276], [165, 1483, 1, 276, 90, 43, 397, 83], [23, 1, 657, 61, 8], [6, 4, 397, 568, 52, 128, 2], [60, 275, 2, 1, 71, 1484, 40], [192, 1, 140, 3, 226, 67, 2, 8, 281], [54, 132, 26, 125, 140, 2, 3], [15, 78, 4, 40, 30, 7, 182, 260, 92], [864, 3, 11, 67, 2, 1, 122, 48, 136], [7, 92, 1, 4, 260, 101, 48, 1485], [638, 3, 346, 1486, 20, 66, 864, 2, 61, 58], [26, 51, 1487, 422, 1488, 1489, 794, 1490, 310], [68, 277, 24, 185, 4, 176, 56, 33], [161, 86, 406, 1491, 156, 1, 5, 90, 502], [209, 760, 1492, 499, 1493, 299, 172, 278], [383, 9, 1, 5, 86, 276, 397, 318, 10], [425, 30, 323, 76, 50, 241, 24, 28, 1], [54, 6, 4, 52, 170, 7, 13], [161, 86, 406, 10, 5, 151, 626, 2, 185, 4, 504], [29, 6, 397, 263, 171, 92, 4], [81, 27, 153, 639, 4, 51, 114], [81, 41, 26, 169, 1494, 33], [72, 96, 79, 4, 191, 1495], [10, 558, 325, 3, 2, 1, 39, 93], [23, 1, 1496, 856, 857, 1497, 10, 58], [5, 54, 24, 185, 4, 277, 305, 2, 323], [422, 3, 1, 12, 115, 174, 34, 5], [165, 357, 269, 10, 30, 276, 128, 479, 200, 4], [6, 4, 52, 128, 2, 39, 105, 1498, 181], [9, 24, 28, 1, 137, 640, 1499, 420, 421, 288], [625, 75, 78, 1, 132, 100, 72, 128, 3], [1500, 358, 18, 737, 1501, 36, 5, 494, 500, 603], [10, 865, 161, 86, 299, 1502, 1503, 268, 843, 269, 1], [208, 866, 2, 3, 1504, 457, 803, 115, 39], [68, 35, 5, 301, 82, 9, 22, 43], [239, 226, 464, 317, 605, 115, 39], [175, 54, 497, 92, 1, 89, 185, 254, 97], [3, 116, 61, 636, 37, 24, 1], [68, 35, 5, 301, 82, 9, 22, 43], [467, 2, 3, 30, 10, 74, 67, 522, 56], [63, 325, 2, 1, 39, 10, 151, 68, 22], [88, 166, 92, 4, 172, 40], [505, 4, 17, 64, 72, 96, 79], [5, 419, 1505, 195, 64, 183, 2, 1, 39, 93], [2, 93, 1, 5, 84, 425, 151, 189], [10, 30, 636, 277, 24, 1, 2], [867, 356, 41, 1506, 325, 2, 1, 39, 93, 20], [855, 168, 2, 1, 93, 199, 5, 350, 1507], [1508, 325, 2, 1, 39, 93, 425, 30, 58], [4, 116, 201, 59, 203, 233, 6, 322, 78, 14], [54, 6, 263, 265, 266, 78, 4], [72, 6, 4, 116, 317, 1509, 88, 166, 92], [624, 332, 239, 3, 115, 39], [221, 25, 1510, 143, 140, 335, 32, 92, 474], [1511, 709, 117, 301, 160, 139, 9, 1, 89], [9, 43, 185, 4, 504, 56, 458, 33], [6, 4, 74, 59, 1512, 1513, 183, 88, 166, 92], [81, 7, 260, 92, 4, 40, 218, 1514], [3, 115, 2, 32, 34, 17], [18, 57, 866, 3, 392, 1515, 12, 115], [26, 788, 12, 269, 168, 5, 117, 97, 1], [197, 128, 18, 631, 1, 20, 413, 868], [30, 323, 50, 9, 24, 1, 175], [50, 197, 631, 1, 5, 71, 73, 315], [42, 769, 200, 9, 24, 1, 98], [72, 505, 79, 4, 180, 32, 72, 162], [6, 4, 767, 51, 29], [51, 29, 6, 4, 76, 50, 60, 28], [6, 4, 61, 26, 442, 37, 313], [6, 4, 116, 505, 79, 180, 64, 75, 72, 162], [4, 181, 64, 318, 313, 465, 33], [71, 86, 15, 125, 214, 1], [1, 74, 165, 1516, 98, 84, 117, 61], [160, 30, 277, 28, 1, 6, 203, 195, 76, 37], [150, 4, 1517, 191, 377], [108, 138, 173, 33, 76, 50, 43, 4], [6, 4, 181, 64, 667, 33, 32, 59, 313, 201], [176, 148, 9, 1, 641, 127, 554, 56], [248, 320, 41, 531, 24, 1, 317, 1518], [1519, 96, 845, 1520, 1521, 1522, 719, 35], [6, 1, 203, 26, 544], [10, 869, 28, 1, 43, 639, 45, 478], [1523, 1524, 43, 29, 6, 1, 416, 37, 313], [173, 47, 144, 59, 91, 211, 21, 102], [196, 865, 161, 86, 63, 4, 400, 753], [11, 1525, 1526, 6, 536, 55], [870, 1527, 13, 1, 197, 472, 773, 234], [591, 459, 347, 116, 871, 233, 281, 424, 152], [152, 227, 871, 458, 2, 199, 69, 324, 80], [58, 152, 138, 20, 26, 571, 59, 63, 4], [635, 56, 804, 403, 185, 4, 504], [30, 112, 322, 76, 91, 156, 4], [625, 100, 157, 846, 72, 6, 872, 116, 4], [6, 4, 119, 832, 57, 171, 214, 615, 58], [1528, 1529, 1, 4, 71, 214, 618, 10], [30, 61, 100, 6, 4, 59, 181], [173, 322, 372, 91, 156, 4], [68, 35, 5, 301, 82, 9, 22, 92], [24, 1, 5, 828, 83, 484, 403, 2, 105], [468, 1530, 54, 72, 6, 872, 116, 4], [183, 214, 1, 1531, 410, 158, 1532, 10], [10, 5, 30, 33, 76, 37, 506, 4], [139, 10, 200, 4, 244, 274, 200, 201], [30, 112, 132, 100, 4, 59, 181, 201], [10, 98, 200, 4, 244, 274, 13, 201], [26, 1533, 1534, 28, 192, 4, 612, 618, 10], [237, 10, 74, 480, 4, 5, 388, 200, 244, 179], [4, 181, 64, 15, 124, 37, 313, 506], [6, 4, 464, 873, 32, 313, 33], [54, 6, 4, 15, 52, 170], [6, 150, 1, 4, 153, 48, 71, 1535, 639], [318, 28, 372, 37, 1536, 229, 1], [173, 6, 874, 4, 15, 40], [28, 1, 127, 66, 394, 200, 201, 69], [529, 43, 166, 4, 504, 56, 33], [299, 161, 86, 167, 127, 408, 171, 1, 807, 276], [161, 86, 10, 394, 137, 4, 5], [1537, 1538, 2, 1, 3, 225, 38], [225, 44, 105, 120, 118, 308, 326, 48, 358], [318, 1539, 11, 712, 478, 4, 1540, 875, 41], [300, 58, 308, 423, 358, 83, 120, 118, 326, 36], [324, 1541, 152, 598, 876], [326, 120, 118, 877, 1542, 513, 15, 2, 36], [54, 142, 6, 4, 51, 29], [54, 38, 120, 118, 326], [422, 2, 14, 300, 88, 166, 64, 44], [6, 4, 52, 170, 627, 32, 60, 64], [44, 120, 118, 1543, 1544, 419, 1545, 88], [44, 105, 120, 326, 83, 118, 36, 877, 48, 1546], [56, 9, 35, 43, 2, 152, 1547, 331, 876], [322, 107, 37, 16, 1548, 267, 4], [139, 10, 1, 137, 244, 179], [4, 137, 152, 138, 33, 26, 459, 347, 115, 179], [1549, 28, 862, 30, 536, 37, 24, 1], [176, 99, 9, 10, 139, 137, 1, 244, 179], [37, 6, 409, 78, 4, 211, 323, 245, 2], [180, 7, 72, 6, 46, 4, 116, 96, 79], [153, 192, 4, 32, 125, 81, 26, 402], [4, 752, 40, 218, 208, 47, 53, 355, 76, 220], [5, 594, 159, 4, 45, 407, 40, 218], [6, 4, 180, 96, 362, 33], [161, 86, 63, 97, 1, 225, 473], [1550, 6, 4, 36, 405, 17, 64, 45, 73, 40], [322, 91, 593, 4, 245, 168, 355], [379, 407, 96, 112, 1, 45, 6, 4, 790, 40], [878, 29, 56, 4, 6, 203, 458, 33], [60, 242, 61, 324, 152, 191, 571, 214, 1], [35, 5, 199, 234, 307, 1551, 176, 99, 363, 57], [18, 624, 2, 3, 1, 239, 26, 51, 835, 343, 388], [54, 174, 2, 3, 1, 125, 175], [42, 390, 161, 86, 394, 137, 4, 225, 1552], [68, 35, 5, 149, 82, 9, 22, 92], [42, 792, 28, 1, 1553, 203, 2, 105], [42, 87, 28, 4, 5, 43, 386], [152, 28, 1554, 6, 181, 26, 51, 36, 127], [36, 405, 12, 6, 1, 4, 45, 72], [157, 1555, 12, 6, 4, 131, 40, 218, 1556], [542, 234, 300, 7, 49, 46, 4], [191, 808, 261, 81, 586, 49, 4], [40, 172, 72, 505, 4, 116, 96, 79, 230, 874, 879], [2, 3, 119, 45, 44], [1557, 402, 7, 224, 275, 140, 2, 3, 1], [226, 448, 242, 254, 28, 267, 46, 4], [875, 353, 10, 1558, 34, 2, 393, 3], [1559, 2, 3, 280, 406, 1560, 208, 476, 39, 741], [54, 642, 7, 111, 1561, 2, 3, 629, 311], [333, 94, 125, 112, 192, 1], [62, 2, 3, 1, 206, 158, 485, 1562, 1563, 1564, 879], [441, 62, 2, 3, 801, 38, 751, 7, 27, 111, 473], [11, 6, 1, 4, 46, 22, 281, 180, 96, 79], [98, 514, 880, 4, 5, 66, 1565, 1566], [9, 83, 42, 151, 372, 28, 1, 94, 127], [641, 127, 66, 83, 386, 28, 1, 6, 1567], [441, 62, 1568, 2, 3, 158, 1569, 246], [641, 388, 56, 20, 158, 18, 818, 441, 127], [1, 5, 137, 159, 4, 220, 17, 2, 3, 355], [881, 2, 3, 859, 38, 247, 62, 7, 27], [1, 477, 786, 176, 99, 9, 57], [6, 180, 134, 72, 267, 4, 96], [225, 27, 52, 362, 135, 2, 1], [80, 74, 2, 136, 183, 3, 67, 90, 1570, 115], [6, 4, 96, 79, 1571, 180, 64, 61, 139, 80], [869, 67, 416, 2, 1, 15, 882, 275, 419, 277], [11, 539, 228, 294, 451, 21, 112, 1572], [67, 2, 1, 122, 136, 48, 643], [62, 2, 3, 1, 1573, 247, 38, 7, 27], [882, 275, 419, 277, 319, 67, 416, 2, 15, 59, 408, 170], [62, 2, 3, 1574, 38, 247, 1575, 7, 27], [6, 180, 4, 84, 12, 96, 12, 637, 64], [29, 483, 844, 33, 76, 91, 593, 4], [161, 86, 155, 210, 122, 300, 2, 182, 12, 3], [72, 6, 4, 116, 201, 40, 218, 30, 242, 50, 28, 5], [26, 349, 1576, 1577, 1578, 1579, 296, 4, 12, 619], [139, 42, 4, 326, 121, 244, 179], [72, 201, 27, 6, 76, 50, 60, 28, 4, 5], [332, 486, 27, 62, 2, 3, 1, 158, 1580], [6, 4, 180, 96, 79, 152, 131, 873, 460, 214, 1], [4, 74, 26, 133, 28, 43, 51, 402], [4, 644, 831, 40, 218, 15, 25, 191, 830, 853], [72, 201, 40, 127, 218, 1581, 151, 6, 1582, 4], [1, 5, 137, 159, 4, 132, 76, 295, 40, 218], [62, 2, 3, 1, 158, 883, 332, 486, 1583, 4], [28, 4, 5, 43, 107, 323, 6, 263], [6, 203, 242, 28, 4, 5, 43, 95], [139, 503, 316, 9, 1, 5, 121], [28, 5, 43, 502, 4, 26, 1584, 181], [28, 4, 43, 248, 320, 41, 619, 195, 132, 91], [9, 4, 5, 43, 10, 208, 53, 355, 76, 220], [111, 642, 62, 2, 3, 1, 552, 38, 7, 27], [60, 6, 203, 109, 28, 4, 5, 43], [1, 57, 5, 176, 99, 9, 248, 356, 41, 223, 324, 392], [28, 4, 175, 43, 6, 870, 242], [196, 54, 24, 194, 1, 46, 4], [62, 2, 3, 1, 66, 158, 38, 247, 7, 27], [62, 2, 3, 1, 158, 1585, 247, 7, 27], [530, 2, 1586, 282, 589, 100, 42, 1587, 576], [881, 62, 2, 3, 1, 1588, 247, 38, 7, 27], [62, 2, 3, 1, 1589, 537, 423, 883], [22, 7, 111, 884, 2, 1, 15], [422, 2, 14, 300, 88, 166, 225, 44], [41, 1590, 19, 26, 51, 2, 3], [7, 2, 3, 1, 105, 317], [486, 642, 2, 3, 1, 589, 205, 638, 246], [317, 103, 605, 2, 1, 162, 38], [7, 111, 885, 2, 3, 311], [776, 777, 472, 31, 886, 497, 222, 345, 408], [134, 7, 190, 2, 3, 359, 10], [839, 31, 319, 9, 24, 229, 96, 1591, 1592], [11, 1593, 16, 262, 143, 827], [3, 122, 116, 643, 59, 1594, 233, 400, 467, 10], [1595, 1596, 55, 17, 11, 85, 39, 67, 264], [350, 23, 1, 585, 84, 78, 1597, 878, 1598], [38, 105, 2, 3, 1, 265, 266], [190, 454, 2, 3, 73, 10, 460, 887], [265, 266, 227, 3, 1599, 38, 47, 2], [3, 2, 1, 84, 406, 106, 207, 73, 10], [482, 23, 3, 1600, 552], [44, 22, 210, 2, 393, 239, 34, 3, 136], [58, 10, 22, 754, 174, 2, 3, 1], [413, 868, 2, 3, 1, 155, 254, 301, 38], [49, 4, 20, 5, 84, 119, 2, 3, 73, 10], [622, 1601, 10, 138, 1602, 2, 498, 1603], [265, 266, 32, 23, 3, 38, 10], [482, 38, 210, 2, 3, 1, 10], [82, 61, 27, 22, 174, 2, 3, 1, 10, 5], [306, 829, 352, 1, 99, 52, 267, 513], [248, 320, 41, 30, 7, 1604, 613, 4, 175], [322, 37, 328, 718, 267, 46, 4], [7, 27, 2, 3, 1, 155, 644, 107, 885, 311], [103, 2, 3, 1605, 637, 45, 44], [3, 644, 799, 311, 61, 7], [42, 30, 297, 46, 4, 36, 5], [3, 1, 18, 57, 2, 450, 259, 551], [733, 1606, 350, 2, 3, 158, 45, 7, 27], [62, 2, 3, 1, 1607, 38, 62, 48, 7, 27], [5, 106, 2, 3, 1608, 119, 1609, 111, 473], [10, 168, 224, 234, 4, 98, 263, 115, 179], [106, 2, 3, 207, 84, 75, 61, 73, 10], [193, 1610, 22, 800, 23, 3], [1611, 233, 132, 32, 2, 3, 888], [10, 802, 353, 2, 3, 5, 367, 457, 71, 861], [132, 51, 168, 2, 3, 1], [454, 311, 32, 3, 2, 887], [507, 210, 122, 3, 136, 67, 264], [1612, 1613, 2, 3, 45, 1614, 1615, 1616, 1617], [81, 7, 27, 111, 1618, 2, 3, 1, 311], [2, 3, 1, 18, 57, 106, 32, 1619, 64], [108, 106, 2, 3, 1, 47, 174], [42, 325, 28, 4, 186, 347, 80, 74, 38], [58, 108, 243, 2, 3, 56, 106, 155, 627, 20, 5], [62, 2, 1, 3, 206, 233, 61, 73, 160], [7, 27, 2, 3, 1, 111, 454, 1620, 81], [18, 321, 42, 151, 62, 2, 3, 1], [22, 174, 2, 3, 1, 1621, 10], [217, 223, 178, 339, 47, 2, 3, 1, 108, 243, 106], [2, 3, 106, 243, 18, 321, 45, 450], [592, 2, 3, 18, 321, 108, 243, 106], [18, 321, 33, 106, 135, 3, 2, 1], [73, 20, 63, 3, 2, 1, 638, 858, 207], [217, 268, 47, 2, 35, 3, 27], [2, 3, 149, 464, 33, 132, 106], [41, 26, 442, 4, 171, 6, 181, 112, 58], [50, 20, 889, 614, 3, 2, 1, 1622, 10, 495, 272], [11, 374, 6, 8, 7, 13], [197, 319, 9, 24, 194, 316, 1623], [302, 20, 889, 614, 3, 2, 35, 132, 207, 583, 99], [160, 1, 331, 63, 23, 3, 12, 106, 207], [17, 1624, 1625, 50, 316, 1, 5, 826], [29, 4, 1626, 1627, 23, 39, 300], [42, 1628, 2, 3, 149, 12, 106, 207, 64], [18, 149, 372, 210, 2, 3], [3, 2, 1, 18, 149, 160, 151, 37, 275], [1629, 387, 3, 2, 1, 10, 5, 495, 272], [349, 3, 2, 1, 135, 394, 39, 58], [84, 18, 149, 3, 34, 2, 890, 73, 42], [891, 485, 319, 9, 194, 24, 316, 46, 4], [891, 485, 87, 24, 194, 229, 46, 4], [3, 2, 1, 343, 149, 819, 17, 13, 4], [3, 1, 74, 84, 18, 149, 195, 227], [237, 5, 343, 2, 3, 149, 18, 1630], [41, 1631, 16, 489, 498, 298, 52], [487, 201, 67, 4, 98, 26, 460, 241, 137], [194, 95, 1632, 84, 18, 23, 1, 39, 93], [1633, 1634, 43, 74, 26, 16, 335, 640], [4, 600, 892, 599, 337, 198, 354, 36, 5, 185, 602], [52, 600, 892, 599, 189, 4, 880], [400, 467, 39, 2, 35, 116, 4, 136, 643, 122], [54, 7, 111, 884, 2, 1, 15], [455, 319, 1635, 1636, 1637, 1638, 52, 43, 95], [296, 4, 189, 97, 117], [506, 41, 316, 303, 22, 537, 46, 4], [9, 4, 156, 52, 21, 37, 506], [60, 1639, 1640, 1641, 1642, 365, 145, 45, 133, 335, 640, 588], [3, 2, 1, 18, 149, 195, 132, 235], [507, 40, 306, 141, 28, 192, 4, 61, 124], [1643, 424, 42, 23, 105, 1, 5, 117, 479, 343, 41], [295, 4, 197, 1644, 2, 35, 39, 484, 20], [340, 59, 91, 104, 4, 45, 172, 621], [1645, 4, 152, 1, 5, 408, 32, 222], [315, 168, 2, 890, 12, 3, 2, 1], [275, 2, 1, 15, 25, 74, 181, 17, 61, 73, 40], [122, 48, 136, 88, 182, 2, 1, 34, 5], [173, 297, 16, 77, 21, 102], [81, 10, 5, 151, 7, 49, 46, 4], [54, 105, 119, 390, 345], [2, 3, 106, 717, 1646, 132, 51, 114], [4, 36, 5, 867, 356, 41, 1647, 324, 81, 63, 1648], [6, 4, 230, 60, 56, 52, 267], [1649, 2, 1, 3, 18, 149], [42, 1650, 5, 107, 50, 353, 2, 1, 3, 168], [23, 1, 15, 52, 130, 1651, 295, 275], [240, 74, 2, 15, 21, 25, 69, 85], [476, 2, 479, 343, 1652, 557, 97, 1, 66, 613], [1653, 425, 135, 2, 1, 1654, 1655, 1656, 623], [23, 1, 15, 25, 18, 62, 128, 1657], [208, 2, 1, 25, 417, 5, 27], [38, 2, 122, 2, 1, 34, 15, 25], [36, 1658, 276, 321, 18, 2, 1, 15], [1659, 40, 268, 5, 103, 591, 20, 1660, 834, 257], [23, 15, 25, 18, 423, 358, 54, 62], [10, 1661, 359, 41, 210, 2, 893, 2, 3], [39, 34, 2, 893, 41, 131, 135, 3], [66, 18, 168, 23, 1, 15, 25, 62], [478, 23, 1, 15, 25, 34, 122, 18, 411], [10, 74, 23, 1, 15, 25, 34, 122], [425, 30, 353, 39, 2, 1, 15, 25, 69], [23, 1, 15, 245, 18, 47, 2, 32, 34], [592, 23, 1, 15, 25, 18, 411], [820, 572, 2, 100, 260, 23, 59, 1662], [477, 886, 497, 1, 89, 48, 127, 594, 54, 4], [894, 120, 118, 175, 109, 81, 44, 22], [363, 411, 148, 39, 2, 1663, 417, 5], [152, 151, 58, 315, 894, 813, 120, 118, 601], [152, 557, 236, 1, 20, 5, 89, 26, 120, 118, 601], [18, 2, 3, 207, 34, 47, 17, 88, 387], [310, 4, 108, 315, 23, 1, 15, 245, 18], [768, 1664, 1665, 29, 133, 1666, 1667, 157], [10, 151, 6, 1, 46, 4, 128, 2], [57, 1668, 1669, 411, 384, 389, 109, 469], [310, 1670, 4, 462, 500, 36, 5, 12, 57], [1671, 1672, 60, 6, 1673, 96, 378, 16, 17], [11, 443, 124, 211, 1674, 1675, 43], [1676, 375, 508, 198, 187, 351, 359, 645, 124, 17], [209, 375, 508, 351, 359, 645, 72, 187, 116, 431], [375, 508, 351, 359, 198, 187, 61, 12, 8], [17, 187, 124, 198, 211, 375, 508, 351, 359, 645], [248, 320, 41, 138, 5, 245, 542, 36, 46, 4], [129, 19, 283, 284, 251, 1677, 1678, 17], [353, 122, 695, 42, 138, 20, 34, 2, 1679], [350, 1680, 1681, 528, 1682, 32, 1683], [42, 30, 50, 20, 1684, 2, 34, 122], [1685, 1686, 1687, 368, 219, 588], [100, 576, 45, 466, 1688, 403, 167, 895, 896], [26, 1689, 1690, 292, 293, 45, 167, 895, 896], [302, 1691, 1692, 12, 167, 1693], [302, 1694, 453, 79, 167], [399, 219, 1695, 399, 15, 699], [23, 1, 1696, 1697, 1698], [302, 715, 12, 414, 62, 156, 1], [105, 27, 105, 67, 264, 2, 393], [2, 897, 178, 217, 5, 72, 17, 732], [217, 268, 2, 897, 306, 556, 56], [2, 3, 1, 243, 69, 430, 323], [103, 888, 407, 387, 3, 2, 1], [2, 3, 84, 207, 1699, 1700, 30, 407, 387], [5, 51, 29, 58, 1, 848, 196], [1701, 18, 223, 2, 3, 20, 128, 135, 115, 629], [1702, 1703, 23, 1, 15, 25, 18, 1704], [507, 1705, 5, 20, 196, 847, 2, 567, 480, 1], [152, 138, 29, 56, 1706, 423, 358, 54, 83, 1], [17, 1707, 1708, 186, 1709, 507, 167], [1, 5, 83, 206, 308, 340, 71, 2, 424, 42], [12, 71, 246, 340, 2, 1, 424, 42]]\n"
          ]
        }
      ],
      "source": [
        "print(sequences)"
      ]
    },
    {
      "cell_type": "code",
      "execution_count": 46,
      "metadata": {
        "id": "_cg878ohy5k7"
      },
      "outputs": [],
      "source": [
        "# Langkah 3: Padding\n",
        "\n",
        "# Tentukan panjang maksimum urutan\n",
        "max_length = max([len(seq) for seq in sequences])\n",
        "# Padding urutan agar memiliki panjang yang sama\n",
        "padded_sequences = pad_sequences(sequences, maxlen=max_length, padding='post')"
      ]
    },
    {
      "cell_type": "code",
      "execution_count": 47,
      "metadata": {
        "colab": {
          "base_uri": "https://localhost:8080/"
        },
        "id": "H7Z35jrsy7uQ",
        "outputId": "822a26ab-c46c-4cbc-d2a9-517a65833ea2"
      },
      "outputs": [
        {
          "output_type": "stream",
          "name": "stdout",
          "text": [
            "[[  70   19   59 ...    0    0    0]\n",
            " [ 361  249  327 ...    0    0    0]\n",
            " [ 898   19  647 ...    0    0    0]\n",
            " ...\n",
            " [  17 1707 1708 ...    0    0    0]\n",
            " [   1    5   83 ...    0    0    0]\n",
            " [  12   71  246 ...    0    0    0]]\n"
          ]
        }
      ],
      "source": [
        "print(padded_sequences)"
      ]
    },
    {
      "cell_type": "code",
      "execution_count": 48,
      "metadata": {
        "id": "qaZZ6z3Y26Rv"
      },
      "outputs": [],
      "source": [
        "#Split data\n",
        "padded_sequences_train, padded_sequences_test= train_test_split(padded_sequences, train_size=0.8, random_state=42)\n"
      ]
    },
    {
      "cell_type": "code",
      "execution_count": 49,
      "metadata": {
        "colab": {
          "base_uri": "https://localhost:8080/"
        },
        "id": "m4Pl4jPIy_Ny",
        "outputId": "f77f8955-ed9a-4443-b083-122d0bc262ae"
      },
      "outputs": [
        {
          "output_type": "stream",
          "name": "stdout",
          "text": [
            "(984, 14)\n"
          ]
        }
      ],
      "source": [
        "print(padded_sequences_train.shape)"
      ]
    },
    {
      "cell_type": "code",
      "execution_count": 50,
      "metadata": {
        "colab": {
          "base_uri": "https://localhost:8080/"
        },
        "id": "rGwu_glg3D11",
        "outputId": "307a2c82-30ec-4280-a2e3-765ef64d36e4"
      },
      "outputs": [
        {
          "output_type": "stream",
          "name": "stdout",
          "text": [
            "(247, 14)\n"
          ]
        }
      ],
      "source": [
        "print(padded_sequences_test.shape)"
      ]
    },
    {
      "cell_type": "code",
      "execution_count": 51,
      "metadata": {
        "id": "aJzl-3oszEqd"
      },
      "outputs": [],
      "source": [
        "# Langkah 4: Pembuatan Model\n",
        "\n",
        "# Inisialisasi model TensorFlow Sequential\n",
        "model = tf.keras.Sequential([\n",
        "    tf.keras.layers.Embedding(input_dim=len(tokenizer.word_index) + 1, output_dim=64, input_length=max_length),\n",
        "    tf.keras.layers.GlobalAveragePooling1D(),\n",
        "    tf.keras.layers.Dense(64, activation='relu'),\n",
        "    tf.keras.layers.Dense(len(judul_artikel), activation='softmax')\n",
        "])\n",
        "\n",
        "# Compile model\n",
        "model.compile(loss='sparse_categorical_crossentropy', optimizer='adam', metrics=['accuracy'])"
      ]
    },
    {
      "cell_type": "code",
      "execution_count": 52,
      "metadata": {
        "colab": {
          "base_uri": "https://localhost:8080/"
        },
        "id": "0rDhYgUN1mnE",
        "outputId": "e025be1f-cb57-4082-e95b-00454476894c"
      },
      "outputs": [
        {
          "output_type": "stream",
          "name": "stdout",
          "text": [
            "[0, 1, 2, 3, 4, 5, 6, 7, 8, 9, 10, 11, 12, 13, 14, 15, 16, 17, 18, 19, 20, 21, 22, 23, 24, 25, 26, 27, 28, 29, 30, 31, 32, 33, 34, 35, 36, 37, 38, 39, 40, 41, 42, 43, 44, 45, 46, 47, 48, 49, 50, 51, 52, 53, 54, 55, 56, 57, 58, 59, 60, 61, 62, 63, 64, 65, 66, 67, 68, 69, 70, 71, 72, 73, 74, 75, 76, 77, 78, 79, 80, 81, 82, 83, 84, 85, 86, 87, 88, 89, 90, 91, 92, 93, 94, 95, 96, 97, 98, 99, 100, 101, 102, 103, 104, 105, 106, 107, 108, 109, 110, 111, 112, 113, 114, 115, 116, 117, 118, 119, 120, 121, 122, 123, 124, 125, 126, 127, 128, 129, 130, 131, 132, 133, 134, 135, 136, 137, 138, 139, 140, 141, 142, 143, 144, 145, 146, 147, 148, 149, 150, 151, 152, 153, 154, 155, 156, 157, 158, 159, 160, 161, 162, 163, 164, 165, 166, 167, 168, 169, 170, 171, 172, 173, 174, 175, 176, 177, 178, 179, 180, 181, 182, 183, 184, 185, 186, 187, 188, 189, 190, 191, 192, 193, 194, 195, 196, 197, 198, 199, 200, 201, 202, 203, 204, 205, 206, 207, 208, 209, 210, 211, 212, 213, 214, 215, 216, 217, 218, 219, 220, 221, 222, 223, 224, 225, 226, 227, 228, 229, 230, 231, 232, 233, 234, 235, 236, 237, 238, 239, 240, 241, 242, 243, 244, 245, 246, 247, 248, 249, 250, 251, 252, 253, 254, 255, 256, 257, 258, 259, 260, 261, 262, 263, 264, 265, 266, 267, 268, 269, 270, 271, 272, 273, 274, 275, 276, 277, 278, 279, 280, 281, 282, 283, 284, 285, 286, 287, 288, 289, 290, 291, 292, 293, 294, 295, 296, 297, 298, 299, 300, 301, 302, 303, 304, 305, 306, 307, 308, 309, 310, 311, 312, 313, 314, 315, 316, 317, 318, 319, 320, 321, 322, 323, 324, 325, 326, 327, 328, 329, 330, 331, 332, 333, 334, 335, 336, 337, 338, 339, 340, 341, 342, 343, 344, 345, 346, 347, 348, 349, 350, 351, 352, 353, 354, 355, 356, 357, 358, 359, 360, 361, 362, 363, 364, 365, 366, 367, 368, 369, 370, 371, 372, 373, 374, 375, 376, 377, 378, 379, 380, 381, 382, 383, 384, 385, 386, 387, 388, 389, 390, 391, 392, 393, 394, 395, 396, 397, 398, 399, 400, 401, 402, 403, 404, 405, 406, 407, 408, 409, 410, 411, 412, 413, 414, 415, 416, 417, 418, 419, 420, 421, 422, 423, 424, 425, 426, 427, 428, 429, 430, 431, 432, 433, 434, 435, 436, 437, 438, 439, 440, 441, 442, 443, 444, 445, 446, 447, 448, 449, 450, 451, 452, 453, 454, 455, 456, 457, 458, 459, 460, 461, 462, 463, 464, 465, 466, 467, 468, 469, 470, 471, 472, 473, 474, 475, 476, 477, 478, 479, 480, 481, 482, 483, 484, 485, 486, 487, 488, 489, 490, 491, 492, 493, 494, 495, 496, 497, 498, 499, 500, 501, 502, 503, 504, 505, 506, 507, 508, 509, 510, 511, 512, 513, 514, 515, 516, 517, 518, 519, 520, 521, 522, 523, 524, 525, 526, 527, 528, 529, 530, 531, 532, 533, 534, 535, 536, 537, 538, 539, 540, 541, 542, 543, 544, 545, 546, 547, 548, 549, 550, 551, 552, 553, 554, 555, 556, 557, 558, 559, 560, 561, 562, 563, 564, 565, 566, 567, 568, 569, 570, 571, 572, 573, 574, 575, 576, 577, 578, 579, 580, 581, 582, 583, 584, 585, 586, 587, 588, 589, 590, 591, 592, 593, 594, 595, 596, 597, 598, 599, 600, 601, 602, 603, 604, 605, 606, 607, 608, 609, 610, 611, 612, 613, 614, 615, 616, 617, 618, 619, 620, 621, 622, 623, 624, 625, 626, 627, 628, 629, 630, 631, 632, 633, 634, 635, 636, 637, 638, 639, 640, 641, 642, 643, 644, 645, 646, 647, 648, 649, 650, 651, 652, 653, 654, 655, 656, 657, 658, 659, 660, 661, 662, 663, 664, 665, 666, 667, 668, 669, 670, 671, 672, 673, 674, 675, 676, 677, 678, 679, 680, 681, 682, 683, 684, 685, 686, 687, 688, 689, 690, 691, 692, 693, 694, 695, 696, 697, 698, 699, 700, 701, 702, 703, 704, 705, 706, 707, 708, 709, 710, 711, 712, 713, 714, 715, 716, 717, 718, 719, 720, 721, 722, 723, 724, 725, 726, 727, 728, 729, 730, 731, 732, 733, 734, 735, 736, 737, 738, 739, 740, 741, 742, 743, 744, 745, 746, 747, 748, 749, 750, 751, 752, 753, 754, 755, 756, 757, 758, 759, 760, 761, 762, 763, 764, 765, 766, 767, 768, 769, 770, 771, 772, 773, 774, 775, 776, 777, 778, 779, 780, 781, 782, 783, 784, 785, 786, 787, 788, 789, 790, 791, 792, 793, 794, 795, 796, 797, 798, 799, 800, 801, 802, 803, 804, 805, 806, 807, 808, 809, 810, 811, 812, 813, 814, 815, 816, 817, 818, 819, 820, 821, 822, 823, 824, 825, 826, 827, 828, 829, 830, 831, 832, 833, 834, 835, 836, 837, 838, 839, 840, 841, 842, 843, 844, 845, 846, 847, 848, 849, 850, 851, 852, 853, 854, 855, 856, 857, 858, 859, 860, 861, 862, 863, 864, 865, 866, 867, 868, 869, 870, 871, 872, 873, 874, 875, 876, 877, 878, 879, 880, 881, 882, 883, 884, 885, 886, 887, 888, 889, 890, 891, 892, 893, 894, 895, 896, 897, 898, 899, 900, 901, 902, 903, 904, 905, 906, 907, 908, 909, 910, 911, 912, 913, 914, 915, 916, 917, 918, 919, 920, 921, 922, 923, 924, 925, 926, 927, 928, 929, 930, 931, 932, 933, 934, 935, 936, 937, 938, 939, 940, 941, 942, 943, 944, 945, 946, 947, 948, 949, 950, 951, 952, 953, 954, 955, 956, 957, 958, 959, 960, 961, 962, 963, 964, 965, 966, 967, 968, 969, 970, 971, 972, 973, 974, 975, 976, 977, 978, 979, 980, 981, 982, 983, 984, 985, 986, 987, 988, 989, 990, 991, 992, 993, 994, 995, 996, 997, 998, 999, 1000, 1001, 1002, 1003, 1004, 1005, 1006, 1007, 1008, 1009, 1010, 1011, 1012, 1013, 1014, 1015, 1016, 1017, 1018, 1019, 1020, 1021, 1022, 1023, 1024, 1025, 1026, 1027, 1028, 1029, 1030, 1031, 1032, 1033, 1034, 1035, 1036, 1037, 1038, 1039, 1040, 1041, 1042, 1043, 1044, 1045, 1046, 1047, 1048, 1049, 1050, 1051, 1052, 1053, 1054, 1055, 1056, 1057, 1058, 1059, 1060, 1061, 1062, 1063, 1064, 1065, 1066, 1067, 1068, 1069, 1070, 1071, 1072, 1073, 1074, 1075, 1076, 1077, 1078, 1079, 1080, 1081, 1082, 1083, 1084, 1085, 1086, 1087, 1088, 1089, 1090, 1091, 1092, 1093, 1094, 1095, 1096, 1097, 1098, 1099, 1100, 1101, 1102, 1103, 1104, 1105, 1106, 1107, 1108, 1109, 1110, 1111, 1112, 1113, 1114, 1115, 1116, 1117, 1118, 1119, 1120, 1121, 1122, 1123, 1124, 1125, 1126, 1127, 1128, 1129, 1130, 1131, 1132, 1133, 1134, 1135, 1136, 1137, 1138, 1139, 1140, 1141, 1142, 1143, 1144, 1145, 1146, 1147, 1148, 1149, 1150, 1151, 1152, 1153, 1154, 1155, 1156, 1157, 1158, 1159, 1160, 1161, 1162, 1163, 1164, 1165, 1166, 1167, 1168, 1169, 1170, 1171, 1172, 1173, 1174, 1175, 1176, 1177, 1178, 1179, 1180, 1181, 1182, 1183, 1184, 1185, 1186, 1187, 1188, 1189, 1190, 1191, 1192, 1193, 1194, 1195, 1196, 1197, 1198, 1199, 1200, 1201, 1202, 1203, 1204, 1205, 1206, 1207, 1208, 1209, 1210, 1211, 1212, 1213, 1214, 1215, 1216, 1217, 1218, 1219, 1220, 1221, 1222, 1223, 1224, 1225, 1226, 1227, 1228, 1229, 1230]\n"
          ]
        }
      ],
      "source": [
        "# Langkah 5: Pelatihan Model\n",
        "\n",
        "# Persiapan data training\n",
        "labels = list(range(len(judul_artikel)))  # Label adalah indeks judul artikel\n",
        "print(labels)"
      ]
    },
    {
      "cell_type": "code",
      "execution_count": 53,
      "metadata": {
        "colab": {
          "base_uri": "https://localhost:8080/"
        },
        "id": "lhTYErGL1sM-",
        "outputId": "34a4e1a9-09d7-4948-b8c2-d469babcfffe"
      },
      "outputs": [
        {
          "output_type": "stream",
          "name": "stdout",
          "text": [
            "[   0    1    2 ... 1228 1229 1230]\n"
          ]
        }
      ],
      "source": [
        "# Konversi data menjadi array NumPy\n",
        "padded_sequences = np.array(padded_sequences)\n",
        "labels = np.array(labels)\n",
        "print(labels)"
      ]
    },
    {
      "cell_type": "code",
      "execution_count": 54,
      "metadata": {
        "id": "HYecaB09-efK"
      },
      "outputs": [],
      "source": [
        "#Split labels\n",
        "labels_train, labels_test= train_test_split(labels, train_size=0.8, random_state=42)"
      ]
    },
    {
      "cell_type": "code",
      "execution_count": 55,
      "metadata": {
        "id": "g3mA5T-m-i54",
        "colab": {
          "base_uri": "https://localhost:8080/"
        },
        "outputId": "b8208266-4f1f-4cbb-f56d-5b81f7d184b8"
      },
      "outputs": [
        {
          "output_type": "stream",
          "name": "stdout",
          "text": [
            "[1069  898  425 1227  811  259  538  770  722  308   59  979  736 1010\n",
            "  864  482  461  422  352  464  752  332   83  129 1037  465  948  467\n",
            "  260  812  572  926  584  138  974  141  868 1142  405  139  390  885\n",
            "  224  936  274  409  731  832  394  599 1087  701  914 1018  890  398\n",
            "  497  621  331  668  887  721   39   30  242  762  136  310 1027  527\n",
            " 1145    3  506  649 1063 1061  865  781 1093  314 1218  319  997  439\n",
            "    5  100  671  534  513  872  462  723 1004  227  839  552  672 1208\n",
            "   66   67  435  211   12  533 1000  299  618  964 1176 1057  735 1167\n",
            "  380 1133  493 1149  597  490  273  427  362  237 1039    2    6  451\n",
            "  311 1058  381 1147 1077  215  411   27 1187 1120  594  823  893 1119\n",
            "  772  983  354 1079  442  256  291   25  336  430   47  318  106  845\n",
            "   55  783  213  120  593  535  548   72  838  787  596  545  944 1198\n",
            "  582 1144  583  529  325 1102  977  316  651 1007 1097  720 1053 1013\n",
            " 1103   60  759   92  908  990  351  987  280 1224  768  359  679 1099\n",
            "  881  554  522 1055  182  676  479  110  370  239  745  711 1023  204\n",
            "  560  852  261 1005 1085  339 1171  581  610  183  137 1190  743  666\n",
            "   80  528  858  802   29  485  471  165  248  307  481 1216  760  346\n",
            "  334  285 1006   97 1146 1066  966 1091  716  644  848  798  724   65\n",
            "  836  905  598 1113 1128  302  254 1015  986  312  585  221  477  388\n",
            "  235 1207  888  305  813  970  249  996   71   94  575   33  902  448\n",
            "  445  916 1073  717   77   84  755   82  457  777  436  850  942  404\n",
            " 1074  909  682  104  566  636   62  281  796  238  223  145 1148  373\n",
            "  118  849  250 1186    9  449  925  389  710  953  557  460 1134  144\n",
            "  501 1137  539  177 1188  920  614 1225    7 1024  892  357  329  741\n",
            "  879  258  919  943  818  631  961  525  861  692  921 1170  440  531\n",
            " 1112  228 1070  212   79  148  622  939  620  133  825  408  707  507\n",
            " 1049  504 1088  347  386    0  360 1163  475  820 1115  172  450  125\n",
            "  673  530   90 1191  181  693  414  251   69  131  300  806  326 1204\n",
            "  499  930 1089  495  338 1107  164   28  516  193  667  843  169  746\n",
            "  652  173  518  973  738  491   73 1031  587  657  234  214 1003  132\n",
            "  842  771  999  185   41  108  899  568  886 1043 1212  483  468   24\n",
            "  706  714  793 1041  366  889 1205  383  454  264  816  232  444  395\n",
            "  857  176   18 1109  862  595   61  272 1155  278  940  694  368  938\n",
            "  867  910  774 1001  547  931  688  952  456  393  675  965 1174  375\n",
            "  412   74 1151 1009  500  847  616  114  417  601  604   89  873 1178\n",
            "  498  927  934  932   11  396 1094  555   42  167  416  576  267 1075\n",
            "  426  690  544 1152  674  689 1084 1206  159  935  257 1035  335   15\n",
            " 1062  324  607 1083 1228 1185  222  179   99  757  521  761   22  356\n",
            "  733 1138 1141  611 1048  340  431  826  217  203  958  976   93  844\n",
            "   68  947  284  696   85  434  841  153   75 1072  789  580  446  703\n",
            "  188  271  236  487 1189  559  117  637 1106  801  750  512  633  829\n",
            " 1045  903  126  790  116  473  740 1040   57  603  786  830  119  656\n",
            " 1181 1202  105  635  369  268  655  819  822   46  349  773  195  102\n",
            "    4  619  571   52  263 1122  443 1026  782  837 1183  691  304  341\n",
            "  918  313  149  124 1092  574  697  664   50  911  726  799  833  353\n",
            " 1182  142  470  653  399  950  969  320   19  684   35  824  505  827\n",
            " 1100  407  817  866  537  758 1098  945   38  175  245  810 1114 1019\n",
            "  784 1215  489  154  638  662  853  287  625 1156  685 1046  924  569\n",
            " 1173  734  792   17  127  322  255  998 1209  190  115 1203  941  606\n",
            "  180  301  496  348 1065   36  744 1111 1096  517  372   45  476  157\n",
            " 1157  171   16  511   48  191  546  515  658  993  828 1033  480  959\n",
            " 1158  283 1101  797  994  225   26  282 1179  437 1197  364  229   37\n",
            "  669  749 1210  374  469  882 1054 1211  687   32  639 1068  194 1135\n",
            " 1143 1008  503  915 1030 1213 1117  800  579  160 1166  680  956 1160\n",
            "  162  821  705 1047  877  895  913 1229  152 1230 1226  509  111  226\n",
            " 1034  851  103  421  419  967  624  586 1090   53  151  403  207 1164\n",
            "    8 1014  452  253  896 1078  880 1162  623  345 1060  262  150  472\n",
            "  640 1220 1159  550  928  488 1110  146  402  954 1195  659  463  186\n",
            "  608  143  751  981  197  883  279  293 1118  400  122  202  835  246\n",
            " 1169  384  854  219  641    1  112  698  951 1108  441  663 1125  317\n",
            "  648  709  972  627  632 1201 1136  795  645 1012  556  681  577  524\n",
            " 1059  540  748 1139  484   95 1020  563  742  863  891 1038  206  392\n",
            "  794  870  397  766 1172 1028  642  612  960  725  683   98  804  406\n",
            "  502 1071 1056  929  779  200  134 1051   40 1017  230  378  288  418\n",
            "  391  592 1086  647  520   64   14 1064  492  379  187  763  216  791\n",
            " 1076  878  337  719  295 1016  455  815  269  995  201  161  729  401\n",
            "  702 1129  565 1021 1025 1104  205   34  775  508 1214   91  897  564\n",
            "  776  241   13  315  600  387  166  840   20  646 1154  831  562 1200\n",
            "  686  957  189  975  699  510 1082  474  856  747  252   21  459 1184\n",
            "  276  955  385  805  343  769  130  871 1123   87  330  466  121 1044\n",
            " 1095 1130  860 1126]\n"
          ]
        }
      ],
      "source": [
        "print(labels_train)"
      ]
    },
    {
      "cell_type": "code",
      "execution_count": 56,
      "metadata": {
        "id": "65OYI_2z-rSb",
        "colab": {
          "base_uri": "https://localhost:8080/"
        },
        "outputId": "bc1d0501-d247-481e-a30d-b64091f5fc35"
      },
      "outputs": [
        {
          "output_type": "stream",
          "name": "stdout",
          "text": [
            "[ 549 1050  244  553 1165  907  732  526  101  128  420  978  210 1052\n",
            "  980  415  665  365  900  328  532  323 1029 1140  265  985  803 1168\n",
            "   49   43  192  876  113  355  695  605  578  107  989  155  906  712\n",
            "  432  982  168  233  615  922  327  912  764  992  306   44  290 1180\n",
            "   63  344  869  715 1222  617  923  780  778  767  874 1080   76 1067\n",
            "  933  991   78  700 1121  494 1002  243 1081  542  884  753   70  543\n",
            "   23  808  968   58  628  949  643 1175   81  371 1036  174  303  807\n",
            "  523 1132  661  170 1032  670   51  678  660  591  963  901  123  209\n",
            " 1219   54  602  363  718   56   86  514  834  109  551 1193 1192  573\n",
            "  937  423  785  570  609 1194  428  429  814  424 1196  541  558  708\n",
            "  875  377  294  846 1199  704  626  946  438  286  855  413  962  654\n",
            "  727 1124  382  410 1153   10  147  859 1022  453 1161 1221  567  730\n",
            "  765  728  270  275 1105  629  277  613  135  208  220 1223 1217  486\n",
            "  158  140  198  292  196 1131  247  519  917  737  971  296  447  358\n",
            "  650  184  266  788  163  433  984  156  590  367  361  240  199 1116\n",
            "  988  588  739  321  677 1042  231  218  756  458 1177  297  350 1011\n",
            "  289  589  713  536   96  478  894  178   31  561  904 1127 1150  309\n",
            "  342  630  333  809   88  634  298  376  754]\n"
          ]
        }
      ],
      "source": [
        "print(labels_test)"
      ]
    },
    {
      "cell_type": "code",
      "execution_count": 57,
      "metadata": {
        "colab": {
          "base_uri": "https://localhost:8080/"
        },
        "id": "4KAj4X5Ugx3i",
        "outputId": "abd5c48c-327f-44bc-8451-e9c4d0260a53"
      },
      "outputs": [
        {
          "output_type": "stream",
          "name": "stdout",
          "text": [
            "Epoch 1/100\n",
            "20/20 [==============================] - 1s 9ms/step - loss: 7.1196 - accuracy: 0.0000e+00\n",
            "Epoch 2/100\n",
            "20/20 [==============================] - 0s 7ms/step - loss: 7.1101 - accuracy: 0.0041\n",
            "Epoch 3/100\n",
            "20/20 [==============================] - 0s 7ms/step - loss: 7.1000 - accuracy: 0.0010\n",
            "Epoch 4/100\n",
            "20/20 [==============================] - 0s 7ms/step - loss: 7.0758 - accuracy: 0.0010\n",
            "Epoch 5/100\n",
            "20/20 [==============================] - 0s 8ms/step - loss: 7.0227 - accuracy: 0.0010\n",
            "Epoch 6/100\n",
            "20/20 [==============================] - 0s 7ms/step - loss: 6.9526 - accuracy: 0.0000e+00\n",
            "Epoch 7/100\n",
            "20/20 [==============================] - 0s 7ms/step - loss: 6.8983 - accuracy: 0.0010\n",
            "Epoch 8/100\n",
            "20/20 [==============================] - 0s 7ms/step - loss: 6.8550 - accuracy: 0.0010\n",
            "Epoch 9/100\n",
            "20/20 [==============================] - 0s 7ms/step - loss: 6.8074 - accuracy: 0.0020\n",
            "Epoch 10/100\n",
            "20/20 [==============================] - 0s 6ms/step - loss: 6.7482 - accuracy: 0.0041\n",
            "Epoch 11/100\n",
            "20/20 [==============================] - 0s 7ms/step - loss: 6.6720 - accuracy: 0.0102\n",
            "Epoch 12/100\n",
            "20/20 [==============================] - 0s 7ms/step - loss: 6.5750 - accuracy: 0.0152\n",
            "Epoch 13/100\n",
            "20/20 [==============================] - 0s 8ms/step - loss: 6.4509 - accuracy: 0.0234\n",
            "Epoch 14/100\n",
            "20/20 [==============================] - 0s 7ms/step - loss: 6.3126 - accuracy: 0.0213\n",
            "Epoch 15/100\n",
            "20/20 [==============================] - 0s 6ms/step - loss: 6.1608 - accuracy: 0.0366\n",
            "Epoch 16/100\n",
            "20/20 [==============================] - 0s 6ms/step - loss: 6.0002 - accuracy: 0.0376\n",
            "Epoch 17/100\n",
            "20/20 [==============================] - 0s 7ms/step - loss: 5.8302 - accuracy: 0.0437\n",
            "Epoch 18/100\n",
            "20/20 [==============================] - 0s 7ms/step - loss: 5.6524 - accuracy: 0.0691\n",
            "Epoch 19/100\n",
            "20/20 [==============================] - 0s 8ms/step - loss: 5.4759 - accuracy: 0.0843\n",
            "Epoch 20/100\n",
            "20/20 [==============================] - 0s 13ms/step - loss: 5.2917 - accuracy: 0.1209\n",
            "Epoch 21/100\n",
            "20/20 [==============================] - 0s 12ms/step - loss: 5.1060 - accuracy: 0.1453\n",
            "Epoch 22/100\n",
            "20/20 [==============================] - 0s 12ms/step - loss: 4.9160 - accuracy: 0.1748\n",
            "Epoch 23/100\n",
            "20/20 [==============================] - 0s 11ms/step - loss: 4.7270 - accuracy: 0.2287\n",
            "Epoch 24/100\n",
            "20/20 [==============================] - 0s 11ms/step - loss: 4.5403 - accuracy: 0.2429\n",
            "Epoch 25/100\n",
            "20/20 [==============================] - 0s 11ms/step - loss: 4.3414 - accuracy: 0.2967\n",
            "Epoch 26/100\n",
            "20/20 [==============================] - 0s 11ms/step - loss: 4.1578 - accuracy: 0.3354\n",
            "Epoch 27/100\n",
            "20/20 [==============================] - 0s 12ms/step - loss: 3.9705 - accuracy: 0.3516\n",
            "Epoch 28/100\n",
            "20/20 [==============================] - 0s 12ms/step - loss: 3.7847 - accuracy: 0.4136\n",
            "Epoch 29/100\n",
            "20/20 [==============================] - 0s 12ms/step - loss: 3.6096 - accuracy: 0.4319\n",
            "Epoch 30/100\n",
            "20/20 [==============================] - 0s 11ms/step - loss: 3.4331 - accuracy: 0.4715\n",
            "Epoch 31/100\n",
            "20/20 [==============================] - 0s 11ms/step - loss: 3.2513 - accuracy: 0.5183\n",
            "Epoch 32/100\n",
            "20/20 [==============================] - 0s 11ms/step - loss: 3.0887 - accuracy: 0.5569\n",
            "Epoch 33/100\n",
            "20/20 [==============================] - 0s 7ms/step - loss: 2.9362 - accuracy: 0.5671\n",
            "Epoch 34/100\n",
            "20/20 [==============================] - 0s 7ms/step - loss: 2.7822 - accuracy: 0.5925\n",
            "Epoch 35/100\n",
            "20/20 [==============================] - 0s 7ms/step - loss: 2.6366 - accuracy: 0.6280\n",
            "Epoch 36/100\n",
            "20/20 [==============================] - 0s 7ms/step - loss: 2.4875 - accuracy: 0.6585\n",
            "Epoch 37/100\n",
            "20/20 [==============================] - 0s 7ms/step - loss: 2.3541 - accuracy: 0.6972\n",
            "Epoch 38/100\n",
            "20/20 [==============================] - 0s 7ms/step - loss: 2.2324 - accuracy: 0.7043\n",
            "Epoch 39/100\n",
            "20/20 [==============================] - 0s 7ms/step - loss: 2.1156 - accuracy: 0.7175\n",
            "Epoch 40/100\n",
            "20/20 [==============================] - 0s 7ms/step - loss: 1.9955 - accuracy: 0.7378\n",
            "Epoch 41/100\n",
            "20/20 [==============================] - 0s 7ms/step - loss: 1.8797 - accuracy: 0.7581\n",
            "Epoch 42/100\n",
            "20/20 [==============================] - 0s 7ms/step - loss: 1.7870 - accuracy: 0.7785\n",
            "Epoch 43/100\n",
            "20/20 [==============================] - 0s 7ms/step - loss: 1.6832 - accuracy: 0.7835\n",
            "Epoch 44/100\n",
            "20/20 [==============================] - 0s 7ms/step - loss: 1.5868 - accuracy: 0.8140\n",
            "Epoch 45/100\n",
            "20/20 [==============================] - 0s 7ms/step - loss: 1.5066 - accuracy: 0.8100\n",
            "Epoch 46/100\n",
            "20/20 [==============================] - 0s 7ms/step - loss: 1.4280 - accuracy: 0.8262\n",
            "Epoch 47/100\n",
            "20/20 [==============================] - 0s 7ms/step - loss: 1.3502 - accuracy: 0.8404\n",
            "Epoch 48/100\n",
            "20/20 [==============================] - 0s 7ms/step - loss: 1.2753 - accuracy: 0.8526\n",
            "Epoch 49/100\n",
            "20/20 [==============================] - 0s 7ms/step - loss: 1.2163 - accuracy: 0.8496\n",
            "Epoch 50/100\n",
            "20/20 [==============================] - 0s 7ms/step - loss: 1.1359 - accuracy: 0.8841\n",
            "Epoch 51/100\n",
            "20/20 [==============================] - 0s 7ms/step - loss: 1.0859 - accuracy: 0.8760\n",
            "Epoch 52/100\n",
            "20/20 [==============================] - 0s 7ms/step - loss: 1.0262 - accuracy: 0.8831\n",
            "Epoch 53/100\n",
            "20/20 [==============================] - 0s 7ms/step - loss: 0.9795 - accuracy: 0.8923\n",
            "Epoch 54/100\n",
            "20/20 [==============================] - 0s 7ms/step - loss: 0.9224 - accuracy: 0.9187\n",
            "Epoch 55/100\n",
            "20/20 [==============================] - 0s 7ms/step - loss: 0.8730 - accuracy: 0.9187\n",
            "Epoch 56/100\n",
            "20/20 [==============================] - 0s 6ms/step - loss: 0.8262 - accuracy: 0.9157\n",
            "Epoch 57/100\n",
            "20/20 [==============================] - 0s 7ms/step - loss: 0.7904 - accuracy: 0.9238\n",
            "Epoch 58/100\n",
            "20/20 [==============================] - 0s 7ms/step - loss: 0.7498 - accuracy: 0.9248\n",
            "Epoch 59/100\n",
            "20/20 [==============================] - 0s 8ms/step - loss: 0.7196 - accuracy: 0.9268\n",
            "Epoch 60/100\n",
            "20/20 [==============================] - 0s 7ms/step - loss: 0.6870 - accuracy: 0.9309\n",
            "Epoch 61/100\n",
            "20/20 [==============================] - 0s 7ms/step - loss: 0.6433 - accuracy: 0.9370\n",
            "Epoch 62/100\n",
            "20/20 [==============================] - 0s 7ms/step - loss: 0.6130 - accuracy: 0.9472\n",
            "Epoch 63/100\n",
            "20/20 [==============================] - 0s 7ms/step - loss: 0.5831 - accuracy: 0.9492\n",
            "Epoch 64/100\n",
            "20/20 [==============================] - 0s 7ms/step - loss: 0.5547 - accuracy: 0.9451\n",
            "Epoch 65/100\n",
            "20/20 [==============================] - 0s 7ms/step - loss: 0.5320 - accuracy: 0.9543\n",
            "Epoch 66/100\n",
            "20/20 [==============================] - 0s 8ms/step - loss: 0.5086 - accuracy: 0.9502\n",
            "Epoch 67/100\n",
            "20/20 [==============================] - 0s 7ms/step - loss: 0.4889 - accuracy: 0.9492\n",
            "Epoch 68/100\n",
            "20/20 [==============================] - 0s 7ms/step - loss: 0.4579 - accuracy: 0.9705\n",
            "Epoch 69/100\n",
            "20/20 [==============================] - 0s 7ms/step - loss: 0.4403 - accuracy: 0.9634\n",
            "Epoch 70/100\n",
            "20/20 [==============================] - 0s 7ms/step - loss: 0.4248 - accuracy: 0.9624\n",
            "Epoch 71/100\n",
            "20/20 [==============================] - 0s 7ms/step - loss: 0.4045 - accuracy: 0.9644\n",
            "Epoch 72/100\n",
            "20/20 [==============================] - 0s 8ms/step - loss: 0.3799 - accuracy: 0.9705\n",
            "Epoch 73/100\n",
            "20/20 [==============================] - 0s 7ms/step - loss: 0.3623 - accuracy: 0.9756\n",
            "Epoch 74/100\n",
            "20/20 [==============================] - 0s 7ms/step - loss: 0.3444 - accuracy: 0.9756\n",
            "Epoch 75/100\n",
            "20/20 [==============================] - 0s 7ms/step - loss: 0.3279 - accuracy: 0.9776\n",
            "Epoch 76/100\n",
            "20/20 [==============================] - 0s 7ms/step - loss: 0.3188 - accuracy: 0.9746\n",
            "Epoch 77/100\n",
            "20/20 [==============================] - 0s 8ms/step - loss: 0.3046 - accuracy: 0.9726\n",
            "Epoch 78/100\n",
            "20/20 [==============================] - 0s 7ms/step - loss: 0.2933 - accuracy: 0.9827\n",
            "Epoch 79/100\n",
            "20/20 [==============================] - 0s 8ms/step - loss: 0.2750 - accuracy: 0.9837\n",
            "Epoch 80/100\n",
            "20/20 [==============================] - 0s 7ms/step - loss: 0.2735 - accuracy: 0.9827\n",
            "Epoch 81/100\n",
            "20/20 [==============================] - 0s 8ms/step - loss: 0.2539 - accuracy: 0.9888\n",
            "Epoch 82/100\n",
            "20/20 [==============================] - 0s 7ms/step - loss: 0.2464 - accuracy: 0.9848\n",
            "Epoch 83/100\n",
            "20/20 [==============================] - 0s 7ms/step - loss: 0.2374 - accuracy: 0.9868\n",
            "Epoch 84/100\n",
            "20/20 [==============================] - 0s 7ms/step - loss: 0.2227 - accuracy: 0.9878\n",
            "Epoch 85/100\n",
            "20/20 [==============================] - 0s 7ms/step - loss: 0.2191 - accuracy: 0.9848\n",
            "Epoch 86/100\n",
            "20/20 [==============================] - 0s 8ms/step - loss: 0.2078 - accuracy: 0.9868\n",
            "Epoch 87/100\n",
            "20/20 [==============================] - 0s 7ms/step - loss: 0.2016 - accuracy: 0.9868\n",
            "Epoch 88/100\n",
            "20/20 [==============================] - 0s 7ms/step - loss: 0.1912 - accuracy: 0.9898\n",
            "Epoch 89/100\n",
            "20/20 [==============================] - 0s 7ms/step - loss: 0.1821 - accuracy: 0.9949\n",
            "Epoch 90/100\n",
            "20/20 [==============================] - 0s 7ms/step - loss: 0.1800 - accuracy: 0.9888\n",
            "Epoch 91/100\n",
            "20/20 [==============================] - 0s 7ms/step - loss: 0.1698 - accuracy: 0.9888\n",
            "Epoch 92/100\n",
            "20/20 [==============================] - 0s 8ms/step - loss: 0.1661 - accuracy: 0.9909\n",
            "Epoch 93/100\n",
            "20/20 [==============================] - 0s 7ms/step - loss: 0.1579 - accuracy: 0.9888\n",
            "Epoch 94/100\n",
            "20/20 [==============================] - 0s 7ms/step - loss: 0.1544 - accuracy: 0.9919\n",
            "Epoch 95/100\n",
            "20/20 [==============================] - 0s 7ms/step - loss: 0.1471 - accuracy: 0.9919\n",
            "Epoch 96/100\n",
            "20/20 [==============================] - 0s 7ms/step - loss: 0.1401 - accuracy: 0.9939\n",
            "Epoch 97/100\n",
            "20/20 [==============================] - 0s 7ms/step - loss: 0.1355 - accuracy: 0.9909\n",
            "Epoch 98/100\n",
            "20/20 [==============================] - 0s 8ms/step - loss: 0.1312 - accuracy: 0.9929\n",
            "Epoch 99/100\n",
            "20/20 [==============================] - 0s 7ms/step - loss: 0.1262 - accuracy: 0.9939\n",
            "Epoch 100/100\n",
            "20/20 [==============================] - 0s 12ms/step - loss: 0.1251 - accuracy: 0.9929\n"
          ]
        }
      ],
      "source": [
        "# Pelatihan model\n",
        "# model.fit(padded_sequences, labels, epochs=50)\n",
        "history = model.fit(padded_sequences_train, \n",
        "                    labels_train, epochs=100, batch_size = 50)"
      ]
    },
    {
      "cell_type": "code",
      "execution_count": 58,
      "metadata": {
        "colab": {
          "base_uri": "https://localhost:8080/",
          "height": 452
        },
        "id": "hMGrjs7D4Atd",
        "outputId": "9be280f5-2357-4d49-f372-9d855af8957f"
      },
      "outputs": [
        {
          "output_type": "display_data",
          "data": {
            "text/plain": [
              "<Figure size 640x480 with 1 Axes>"
            ],
            "image/png": "[encoded data removed]"
          },
          "metadata": {}
        }
      ],
      "source": [
        "# summarize history for loss\n",
        "import matplotlib.pyplot as plt\n",
        "\n",
        "# plt.plot(history.history['val_loss'], color='r', label='Val Loss')\n",
        "plt.plot(history.history['loss'], color='b', label='Train Loss')\n",
        "plt.title('Train Loss Graph')\n",
        "plt.show()"
      ]
    },
    {
      "cell_type": "code",
      "execution_count": 59,
      "metadata": {
        "colab": {
          "base_uri": "https://localhost:8080/",
          "height": 452
        },
        "id": "3w1HmRS-4NIg",
        "outputId": "d6e8c1d6-3835-4656-f830-786691bb2792"
      },
      "outputs": [
        {
          "output_type": "display_data",
          "data": {
            "text/plain": [
              "<Figure size 640x480 with 1 Axes>"
            ],
            "image/png": "[encoded data removed]"
          },
          "metadata": {}
        }
      ],
      "source": [
        "# summarize history for accuracy\n",
        "import matplotlib.pyplot as plt\n",
        "plt.plot(history.history['accuracy'], color='b', label='Train accuracy')\n",
        "# plt.plot(history.history['val_accuracy'], color='r', label='Val accuracy')\n",
        "plt.title('Train accuracy Graph')\n",
        "plt.show()"
      ]
    },
    {
      "cell_type": "code",
      "execution_count": 78,
      "metadata": {
        "colab": {
          "base_uri": "https://localhost:8080/"
        },
        "id": "l9QDVXQizIkq",
        "outputId": "ed161709-28db-4c2e-e7c4-44e6694fa184"
      },
      "outputs": [
        {
          "output_type": "stream",
          "name": "stdout",
          "text": [
            "1/1 [==============================] - 0s 21ms/step\n",
            "39/39 [==============================] - 0s 2ms/step\n",
            "id_data Artikel: 338\n",
            "kenal spinal cord injury sebab gejala tangan\n",
            "\n",
            "id_data Artikel: 231\n",
            "stroke kenal sebab gejala kondisi medis darurat\n",
            "\n",
            "id_data Artikel: 731\n",
            "kenal hepatitis fulminan gejala serius sebab\n",
            "\n",
            "id_data Artikel: 1198\n",
            "lionel messi alami gejala gastroenteritis flu perut sakit apa\n",
            "\n",
            "id_data Artikel: 451\n",
            "lain tulang ciri gejala sebab solusi\n",
            "\n",
            "id_data Artikel: 194\n",
            "kenal bagai gejala glaukoma bisa serang\n",
            "\n",
            "id_data Artikel: 196\n",
            "kenal sebab perut kembung\n",
            "\n",
            "id_data Artikel: 747\n",
            "kenal radang tenggorok sebab gejala hingga obat rumah\n",
            "\n",
            "id_data Artikel: 1121\n",
            "kenal insomnia gejala sebab cara atas\n",
            "\n",
            "id_data Artikel: 1199\n",
            "kenal pneumonia kondisi idap ameer azzikra tinggal\n",
            "\n"
          ]
        }
      ],
      "source": [
        "# Langkah 6: Prediksi dan Rekomendasi\n",
        "\n",
        "# Judul artikel input \n",
        "judul_input = [\"kenal spinal cord injury sebab gejala tangan\"]\n",
        "\n",
        "# Ubah judul input menjadi urutan angka\n",
        "input_sequence = tokenizer.texts_to_sequences(judul_input)\n",
        "input_padded = pad_sequences(input_sequence, maxlen=max_length, padding='post')\n",
        "\n",
        "# Dapatkan representasi vektor dari judul input\n",
        "input_vector = model.predict(input_padded)\n",
        "\n",
        "# Hitung kesamaan kosinus antara vektor input dan vektor artikel dalam dataset\n",
        "similarities = []\n",
        "for article_vector in model.predict(padded_sequences):\n",
        "    similarity = cosine_similarity(input_vector, article_vector.reshape(1, -1))\n",
        "    similarities.append(similarity[0][0])\n",
        "\n",
        "# Urutkan indeks artikel berdasarkan kesamaan kosinus (peringkat paling mirip)\n",
        "ranked_indices = np.argsort(similarities)[::-1]\n",
        "\n",
        "# # Tampilkan peringkat artikel paling mirip\n",
        "# i = 0\n",
        "# for index in ranked_indices:\n",
        "#     print(judul_artikel[index])\n",
        "#     i += 1\n",
        "#     if i >= 10:\n",
        "#       break\n",
        "# print(judul_artikel[338])\n",
        "i = 0\n",
        "for index, id_data in enumerate(ranked_indices):\n",
        "    print(\"id_data Artikel:\", id_data)\n",
        "    print(judul_artikel[id_data])\n",
        "    print()\n",
        "    i += 1\n",
        "    if i >= 10:\n",
        "      break\n"
      ]
    },
    {
      "cell_type": "code",
      "source": [
        "!pip install tensorflowjs"
      ],
      "metadata": {
        "colab": {
          "base_uri": "https://localhost:8080/",
          "height": 1000
        },
        "id": "arA-CjyjkaJN",
        "outputId": "970d7c96-ec2b-4e61-ab7f-a504c37eced6"
      },
      "execution_count": 63,
      "outputs": [
        {
          "output_type": "stream",
          "name": "stdout",
          "text": [
            "Looking in indexes: https://pypi.org/simple, https://us-python.pkg.dev/colab-wheels/public/simple/\n",
            "Collecting tensorflowjs\n",
            "  Downloading tensorflowjs-4.6.0-py3-none-any.whl (85 kB)\n",
            "\u001b[2K     \u001b[90m━━━━━━━━━━━━━━━━━━━━━━━━━━━━━━━━━━━━━━━━\u001b[0m \u001b[32m85.1/85.1 kB\u001b[0m \u001b[31m4.5 MB/s\u001b[0m eta \u001b[36m0:00:00\u001b[0m\n",
            "\u001b[?25hCollecting flax<0.6.3,>=0.6.2 (from tensorflowjs)\n",
            "  Downloading flax-0.6.2-py3-none-any.whl (189 kB)\n",
            "\u001b[2K     \u001b[90m━━━━━━━━━━━━━━━━━━━━━━━━━━━━━━━━━━━━━━\u001b[0m \u001b[32m189.9/189.9 kB\u001b[0m \u001b[31m11.9 MB/s\u001b[0m eta \u001b[36m0:00:00\u001b[0m\n",
            "\u001b[?25hRequirement already satisfied: importlib_resources>=5.9.0 in /usr/local/lib/python3.10/dist-packages (from tensorflowjs) (5.12.0)\n",
            "Requirement already satisfied: jax>=0.3.16 in /usr/local/lib/python3.10/dist-packages (from tensorflowjs) (0.4.10)\n",
            "Requirement already satisfied: tensorflow<3,>=2.12.0 in /usr/local/lib/python3.10/dist-packages (from tensorflowjs) (2.12.0)\n",
            "Collecting tensorflow-decision-forests>=1.3.0 (from tensorflowjs)\n",
            "  Downloading tensorflow_decision_forests-1.3.0-cp310-cp310-manylinux_2_17_x86_64.manylinux2014_x86_64.whl (16.4 MB)\n",
            "\u001b[2K     \u001b[90m━━━━━━━━━━━━━━━━━━━━━━━━━━━━━━━━━━━━━━━━\u001b[0m \u001b[32m16.4/16.4 MB\u001b[0m \u001b[31m57.0 MB/s\u001b[0m eta \u001b[36m0:00:00\u001b[0m\n",
            "\u001b[?25hRequirement already satisfied: six<2,>=1.12.0 in /usr/local/lib/python3.10/dist-packages (from tensorflowjs) (1.16.0)\n",
            "Requirement already satisfied: tensorflow-hub>=0.13.0 in /usr/local/lib/python3.10/dist-packages (from tensorflowjs) (0.13.0)\n",
            "Collecting packaging~=20.9 (from tensorflowjs)\n",
            "  Downloading packaging-20.9-py2.py3-none-any.whl (40 kB)\n",
            "\u001b[2K     \u001b[90m━━━━━━━━━━━━━━━━━━━━━━━━━━━━━━━━━━━━━━━━\u001b[0m \u001b[32m40.9/40.9 kB\u001b[0m \u001b[31m4.3 MB/s\u001b[0m eta \u001b[36m0:00:00\u001b[0m\n",
            "\u001b[?25hRequirement already satisfied: numpy>=1.12 in /usr/local/lib/python3.10/dist-packages (from flax<0.6.3,>=0.6.2->tensorflowjs) (1.22.4)\n",
            "Requirement already satisfied: matplotlib in /usr/local/lib/python3.10/dist-packages (from flax<0.6.3,>=0.6.2->tensorflowjs) (3.7.1)\n",
            "Requirement already satisfied: msgpack in /usr/local/lib/python3.10/dist-packages (from flax<0.6.3,>=0.6.2->tensorflowjs) (1.0.5)\n",
            "Requirement already satisfied: optax in /usr/local/lib/python3.10/dist-packages (from flax<0.6.3,>=0.6.2->tensorflowjs) (0.1.5)\n",
            "Requirement already satisfied: tensorstore in /usr/local/lib/python3.10/dist-packages (from flax<0.6.3,>=0.6.2->tensorflowjs) (0.1.36)\n",
            "Requirement already satisfied: rich>=11.1 in /usr/local/lib/python3.10/dist-packages (from flax<0.6.3,>=0.6.2->tensorflowjs) (13.3.4)\n",
            "Requirement already satisfied: typing-extensions>=4.1.1 in /usr/local/lib/python3.10/dist-packages (from flax<0.6.3,>=0.6.2->tensorflowjs) (4.5.0)\n",
            "Requirement already satisfied: PyYAML>=5.4.1 in /usr/local/lib/python3.10/dist-packages (from flax<0.6.3,>=0.6.2->tensorflowjs) (6.0)\n",
            "Requirement already satisfied: ml-dtypes>=0.1.0 in /usr/local/lib/python3.10/dist-packages (from jax>=0.3.16->tensorflowjs) (0.1.0)\n",
            "Requirement already satisfied: opt-einsum in /usr/local/lib/python3.10/dist-packages (from jax>=0.3.16->tensorflowjs) (3.3.0)\n",
            "Requirement already satisfied: scipy>=1.7 in /usr/local/lib/python3.10/dist-packages (from jax>=0.3.16->tensorflowjs) (1.10.1)\n",
            "Requirement already satisfied: pyparsing>=2.0.2 in /usr/local/lib/python3.10/dist-packages (from packaging~=20.9->tensorflowjs) (3.0.9)\n",
            "Requirement already satisfied: absl-py>=1.0.0 in /usr/local/lib/python3.10/dist-packages (from tensorflow<3,>=2.12.0->tensorflowjs) (1.4.0)\n",
            "Requirement already satisfied: astunparse>=1.6.0 in /usr/local/lib/python3.10/dist-packages (from tensorflow<3,>=2.12.0->tensorflowjs) (1.6.3)\n",
            "Requirement already satisfied: flatbuffers>=2.0 in /usr/local/lib/python3.10/dist-packages (from tensorflow<3,>=2.12.0->tensorflowjs) (23.3.3)\n",
            "Requirement already satisfied: gast<=0.4.0,>=0.2.1 in /usr/local/lib/python3.10/dist-packages (from tensorflow<3,>=2.12.0->tensorflowjs) (0.4.0)\n",
            "Requirement already satisfied: google-pasta>=0.1.1 in /usr/local/lib/python3.10/dist-packages (from tensorflow<3,>=2.12.0->tensorflowjs) (0.2.0)\n",
            "Requirement already satisfied: grpcio<2.0,>=1.24.3 in /usr/local/lib/python3.10/dist-packages (from tensorflow<3,>=2.12.0->tensorflowjs) (1.54.0)\n",
            "Requirement already satisfied: h5py>=2.9.0 in /usr/local/lib/python3.10/dist-packages (from tensorflow<3,>=2.12.0->tensorflowjs) (3.8.0)\n",
            "Requirement already satisfied: keras<2.13,>=2.12.0 in /usr/local/lib/python3.10/dist-packages (from tensorflow<3,>=2.12.0->tensorflowjs) (2.12.0)\n",
            "Requirement already satisfied: libclang>=13.0.0 in /usr/local/lib/python3.10/dist-packages (from tensorflow<3,>=2.12.0->tensorflowjs) (16.0.0)\n",
            "Requirement already satisfied: protobuf!=4.21.0,!=4.21.1,!=4.21.2,!=4.21.3,!=4.21.4,!=4.21.5,<5.0.0dev,>=3.20.3 in /usr/local/lib/python3.10/dist-packages (from tensorflow<3,>=2.12.0->tensorflowjs) (3.20.3)\n",
            "Requirement already satisfied: setuptools in /usr/local/lib/python3.10/dist-packages (from tensorflow<3,>=2.12.0->tensorflowjs) (67.7.2)\n",
            "Requirement already satisfied: tensorboard<2.13,>=2.12 in /usr/local/lib/python3.10/dist-packages (from tensorflow<3,>=2.12.0->tensorflowjs) (2.12.2)\n",
            "Requirement already satisfied: tensorflow-estimator<2.13,>=2.12.0 in /usr/local/lib/python3.10/dist-packages (from tensorflow<3,>=2.12.0->tensorflowjs) (2.12.0)\n",
            "Requirement already satisfied: termcolor>=1.1.0 in /usr/local/lib/python3.10/dist-packages (from tensorflow<3,>=2.12.0->tensorflowjs) (2.3.0)\n",
            "Requirement already satisfied: wrapt<1.15,>=1.11.0 in /usr/local/lib/python3.10/dist-packages (from tensorflow<3,>=2.12.0->tensorflowjs) (1.14.1)\n",
            "Requirement already satisfied: tensorflow-io-gcs-filesystem>=0.23.1 in /usr/local/lib/python3.10/dist-packages (from tensorflow<3,>=2.12.0->tensorflowjs) (0.32.0)\n",
            "Requirement already satisfied: pandas in /usr/local/lib/python3.10/dist-packages (from tensorflow-decision-forests>=1.3.0->tensorflowjs) (1.5.3)\n",
            "Requirement already satisfied: wheel in /usr/local/lib/python3.10/dist-packages (from tensorflow-decision-forests>=1.3.0->tensorflowjs) (0.40.0)\n",
            "Collecting wurlitzer (from tensorflow-decision-forests>=1.3.0->tensorflowjs)\n",
            "  Downloading wurlitzer-3.0.3-py3-none-any.whl (7.3 kB)\n",
            "Requirement already satisfied: markdown-it-py<3.0.0,>=2.2.0 in /usr/local/lib/python3.10/dist-packages (from rich>=11.1->flax<0.6.3,>=0.6.2->tensorflowjs) (2.2.0)\n",
            "Requirement already satisfied: pygments<3.0.0,>=2.13.0 in /usr/local/lib/python3.10/dist-packages (from rich>=11.1->flax<0.6.3,>=0.6.2->tensorflowjs) (2.14.0)\n",
            "Requirement already satisfied: google-auth<3,>=1.6.3 in /usr/local/lib/python3.10/dist-packages (from tensorboard<2.13,>=2.12->tensorflow<3,>=2.12.0->tensorflowjs) (2.17.3)\n",
            "Requirement already satisfied: google-auth-oauthlib<1.1,>=0.5 in /usr/local/lib/python3.10/dist-packages (from tensorboard<2.13,>=2.12->tensorflow<3,>=2.12.0->tensorflowjs) (1.0.0)\n",
            "Requirement already satisfied: markdown>=2.6.8 in /usr/local/lib/python3.10/dist-packages (from tensorboard<2.13,>=2.12->tensorflow<3,>=2.12.0->tensorflowjs) (3.4.3)\n",
            "Requirement already satisfied: requests<3,>=2.21.0 in /usr/local/lib/python3.10/dist-packages (from tensorboard<2.13,>=2.12->tensorflow<3,>=2.12.0->tensorflowjs) (2.27.1)\n",
            "Requirement already satisfied: tensorboard-data-server<0.8.0,>=0.7.0 in /usr/local/lib/python3.10/dist-packages (from tensorboard<2.13,>=2.12->tensorflow<3,>=2.12.0->tensorflowjs) (0.7.0)\n",
            "Requirement already satisfied: tensorboard-plugin-wit>=1.6.0 in /usr/local/lib/python3.10/dist-packages (from tensorboard<2.13,>=2.12->tensorflow<3,>=2.12.0->tensorflowjs) (1.8.1)\n",
            "Requirement already satisfied: werkzeug>=1.0.1 in /usr/local/lib/python3.10/dist-packages (from tensorboard<2.13,>=2.12->tensorflow<3,>=2.12.0->tensorflowjs) (2.3.0)\n",
            "Requirement already satisfied: contourpy>=1.0.1 in /usr/local/lib/python3.10/dist-packages (from matplotlib->flax<0.6.3,>=0.6.2->tensorflowjs) (1.0.7)\n",
            "Requirement already satisfied: cycler>=0.10 in /usr/local/lib/python3.10/dist-packages (from matplotlib->flax<0.6.3,>=0.6.2->tensorflowjs) (0.11.0)\n",
            "Requirement already satisfied: fonttools>=4.22.0 in /usr/local/lib/python3.10/dist-packages (from matplotlib->flax<0.6.3,>=0.6.2->tensorflowjs) (4.39.3)\n",
            "Requirement already satisfied: kiwisolver>=1.0.1 in /usr/local/lib/python3.10/dist-packages (from matplotlib->flax<0.6.3,>=0.6.2->tensorflowjs) (1.4.4)\n",
            "Requirement already satisfied: pillow>=6.2.0 in /usr/local/lib/python3.10/dist-packages (from matplotlib->flax<0.6.3,>=0.6.2->tensorflowjs) (8.4.0)\n",
            "Requirement already satisfied: python-dateutil>=2.7 in /usr/local/lib/python3.10/dist-packages (from matplotlib->flax<0.6.3,>=0.6.2->tensorflowjs) (2.8.2)\n",
            "Requirement already satisfied: chex>=0.1.5 in /usr/local/lib/python3.10/dist-packages (from optax->flax<0.6.3,>=0.6.2->tensorflowjs) (0.1.7)\n",
            "Requirement already satisfied: jaxlib>=0.1.37 in /usr/local/lib/python3.10/dist-packages (from optax->flax<0.6.3,>=0.6.2->tensorflowjs) (0.4.10+cuda11.cudnn86)\n",
            "Requirement already satisfied: pytz>=2020.1 in /usr/local/lib/python3.10/dist-packages (from pandas->tensorflow-decision-forests>=1.3.0->tensorflowjs) (2022.7.1)\n",
            "Requirement already satisfied: dm-tree>=0.1.5 in /usr/local/lib/python3.10/dist-packages (from chex>=0.1.5->optax->flax<0.6.3,>=0.6.2->tensorflowjs) (0.1.8)\n",
            "Requirement already satisfied: toolz>=0.9.0 in /usr/local/lib/python3.10/dist-packages (from chex>=0.1.5->optax->flax<0.6.3,>=0.6.2->tensorflowjs) (0.12.0)\n",
            "Requirement already satisfied: cachetools<6.0,>=2.0.0 in /usr/local/lib/python3.10/dist-packages (from google-auth<3,>=1.6.3->tensorboard<2.13,>=2.12->tensorflow<3,>=2.12.0->tensorflowjs) (5.3.0)\n",
            "Requirement already satisfied: pyasn1-modules>=0.2.1 in /usr/local/lib/python3.10/dist-packages (from google-auth<3,>=1.6.3->tensorboard<2.13,>=2.12->tensorflow<3,>=2.12.0->tensorflowjs) (0.3.0)\n",
            "Requirement already satisfied: rsa<5,>=3.1.4 in /usr/local/lib/python3.10/dist-packages (from google-auth<3,>=1.6.3->tensorboard<2.13,>=2.12->tensorflow<3,>=2.12.0->tensorflowjs) (4.9)\n",
            "Requirement already satisfied: requests-oauthlib>=0.7.0 in /usr/local/lib/python3.10/dist-packages (from google-auth-oauthlib<1.1,>=0.5->tensorboard<2.13,>=2.12->tensorflow<3,>=2.12.0->tensorflowjs) (1.3.1)\n",
            "Requirement already satisfied: mdurl~=0.1 in /usr/local/lib/python3.10/dist-packages (from markdown-it-py<3.0.0,>=2.2.0->rich>=11.1->flax<0.6.3,>=0.6.2->tensorflowjs) (0.1.2)\n",
            "Requirement already satisfied: urllib3<1.27,>=1.21.1 in /usr/local/lib/python3.10/dist-packages (from requests<3,>=2.21.0->tensorboard<2.13,>=2.12->tensorflow<3,>=2.12.0->tensorflowjs) (1.26.15)\n",
            "Requirement already satisfied: certifi>=2017.4.17 in /usr/local/lib/python3.10/dist-packages (from requests<3,>=2.21.0->tensorboard<2.13,>=2.12->tensorflow<3,>=2.12.0->tensorflowjs) (2022.12.7)\n",
            "Requirement already satisfied: charset-normalizer~=2.0.0 in /usr/local/lib/python3.10/dist-packages (from requests<3,>=2.21.0->tensorboard<2.13,>=2.12->tensorflow<3,>=2.12.0->tensorflowjs) (2.0.12)\n",
            "Requirement already satisfied: idna<4,>=2.5 in /usr/local/lib/python3.10/dist-packages (from requests<3,>=2.21.0->tensorboard<2.13,>=2.12->tensorflow<3,>=2.12.0->tensorflowjs) (3.4)\n",
            "Requirement already satisfied: MarkupSafe>=2.1.1 in /usr/local/lib/python3.10/dist-packages (from werkzeug>=1.0.1->tensorboard<2.13,>=2.12->tensorflow<3,>=2.12.0->tensorflowjs) (2.1.2)\n",
            "Requirement already satisfied: pyasn1<0.6.0,>=0.4.6 in /usr/local/lib/python3.10/dist-packages (from pyasn1-modules>=0.2.1->google-auth<3,>=1.6.3->tensorboard<2.13,>=2.12->tensorflow<3,>=2.12.0->tensorflowjs) (0.5.0)\n",
            "Requirement already satisfied: oauthlib>=3.0.0 in /usr/local/lib/python3.10/dist-packages (from requests-oauthlib>=0.7.0->google-auth-oauthlib<1.1,>=0.5->tensorboard<2.13,>=2.12->tensorflow<3,>=2.12.0->tensorflowjs) (3.2.2)\n",
            "Installing collected packages: wurlitzer, packaging, flax, tensorflow-decision-forests, tensorflowjs\n",
            "  Attempting uninstall: packaging\n",
            "    Found existing installation: packaging 23.1\n",
            "    Uninstalling packaging-23.1:\n",
            "      Successfully uninstalled packaging-23.1\n",
            "  Attempting uninstall: flax\n",
            "    Found existing installation: flax 0.6.9\n",
            "    Uninstalling flax-0.6.9:\n",
            "      Successfully uninstalled flax-0.6.9\n",
            "\u001b[31mERROR: pip's dependency resolver does not currently take into account all the packages that are installed. This behaviour is the source of the following dependency conflicts.\n",
            "statsmodels 0.13.5 requires packaging>=21.3, but you have packaging 20.9 which is incompatible.\n",
            "xarray 2022.12.0 requires packaging>=21.3, but you have packaging 20.9 which is incompatible.\u001b[0m\u001b[31m\n",
            "\u001b[0mSuccessfully installed flax-0.6.2 packaging-20.9 tensorflow-decision-forests-1.3.0 tensorflowjs-4.6.0 wurlitzer-3.0.3\n"
          ]
        },
        {
          "output_type": "display_data",
          "data": {
            "application/vnd.colab-display-data+json": {
              "pip_warning": {
                "packages": [
                  "packaging"
                ]
              }
            }
          },
          "metadata": {}
        }
      ]
    },
    {
      "cell_type": "code",
      "source": [
        "saved_model_path = \"/content/my_model.h5\"\n",
        "model.save(saved_model_path)"
      ],
      "metadata": {
        "id": "RXw_3h4xkTU4"
      },
      "execution_count": 64,
      "outputs": []
    },
    {
      "cell_type": "code",
      "source": [
        "!tensorflowjs_converter --input_format=keras {saved_model_path} /content/"
      ],
      "metadata": {
        "colab": {
          "base_uri": "https://localhost:8080/"
        },
        "id": "ioKNmEVokU_f",
        "outputId": "1ffd45ed-2801-4b7b-ca7d-fff64dff20c2"
      },
      "execution_count": 65,
      "outputs": [
        {
          "output_type": "stream",
          "name": "stdout",
          "text": [
            "2023-06-02 14:46:49.559503: W tensorflow/compiler/tf2tensorrt/utils/py_utils.cc:38] TF-TRT Warning: Could not find TensorRT\n"
          ]
        }
      ]
    }
  ],
  "metadata": {
    "colab": {
      "provenance": []
    },
    "kernelspec": {
      "display_name": "Python 3",
      "name": "python3"
    },
    "language_info": {
      "name": "python"
    }
  },
  "nbformat": 4,
  "nbformat_minor": 0
}